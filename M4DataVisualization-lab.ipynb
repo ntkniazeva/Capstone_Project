{
 "cells": [
  {
   "cell_type": "markdown",
   "metadata": {},
   "source": [
    "<p style=\"text-align:center\">\n",
    "    <a href=\"https://skills.network/?utm_medium=Exinfluencer&utm_source=Exinfluencer&utm_content=000026UJ&utm_term=10006555&utm_id=NA-SkillsNetwork-Channel-SkillsNetworkCoursesIBMDA0321ENSkillsNetwork21426264-2022-01-01\" target=\"_blank\">\n",
    "    <img src=\"https://cf-courses-data.s3.us.cloud-object-storage.appdomain.cloud/assets/logos/SN_web_lightmode.png\" width=\"200\" alt=\"Skills Network Logo\"  />\n",
    "    </a>\n",
    "</p>\n"
   ]
  },
  {
   "cell_type": "markdown",
   "metadata": {},
   "source": [
    "# **Data Visualization Lab**\n"
   ]
  },
  {
   "cell_type": "markdown",
   "metadata": {},
   "source": [
    "Estimated time needed: **45 to 60** minutes\n"
   ]
  },
  {
   "cell_type": "markdown",
   "metadata": {},
   "source": [
    "In this assignment you will be focusing on the visualization of data.\n",
    "\n",
    "The data set will be presented to you in the form of a RDBMS.\n",
    "\n",
    "You will have to use SQL queries to extract the data.\n"
   ]
  },
  {
   "cell_type": "markdown",
   "metadata": {},
   "source": [
    "## Objectives\n"
   ]
  },
  {
   "cell_type": "markdown",
   "metadata": {},
   "source": [
    "In this lab you will perform the following:\n"
   ]
  },
  {
   "cell_type": "markdown",
   "metadata": {},
   "source": [
    "*   Visualize the distribution of data.\n",
    "\n",
    "*   Visualize the relationship between two features.\n",
    "\n",
    "*   Visualize composition of data.\n",
    "\n",
    "*   Visualize comparison of data.\n"
   ]
  },
  {
   "cell_type": "markdown",
   "metadata": {},
   "source": [
    "<hr>\n"
   ]
  },
  {
   "cell_type": "markdown",
   "metadata": {},
   "source": [
    "## Demo: How to work with database\n"
   ]
  },
  {
   "cell_type": "markdown",
   "metadata": {},
   "source": [
    "Download database file.\n"
   ]
  },
  {
   "cell_type": "code",
   "execution_count": 2,
   "metadata": {},
   "outputs": [
    {
     "name": "stdout",
     "output_type": "stream",
     "text": [
      "--2022-06-26 17:53:11--  https://cf-courses-data.s3.us.cloud-object-storage.appdomain.cloud/IBM-DA0321EN-SkillsNetwork/LargeData/m4_survey_data.sqlite\n",
      "Resolving cf-courses-data.s3.us.cloud-object-storage.appdomain.cloud (cf-courses-data.s3.us.cloud-object-storage.appdomain.cloud)... 169.63.118.104\n",
      "Connecting to cf-courses-data.s3.us.cloud-object-storage.appdomain.cloud (cf-courses-data.s3.us.cloud-object-storage.appdomain.cloud)|169.63.118.104|:443... connected.\n",
      "HTTP request sent, awaiting response... 200 OK\n",
      "Length: 36679680 (35M) [application/octet-stream]\n",
      "Saving to: ‘m4_survey_data.sqlite.36’\n",
      "\n",
      "m4_survey_data.sqli 100%[===================>]  34.98M  31.8MB/s    in 1.1s    \n",
      "\n",
      "2022-06-26 17:53:14 (31.8 MB/s) - ‘m4_survey_data.sqlite.36’ saved [36679680/36679680]\n",
      "\n"
     ]
    }
   ],
   "source": [
    "!wget https://cf-courses-data.s3.us.cloud-object-storage.appdomain.cloud/IBM-DA0321EN-SkillsNetwork/LargeData/m4_survey_data.sqlite"
   ]
  },
  {
   "cell_type": "markdown",
   "metadata": {},
   "source": [
    "Connect to the database.\n"
   ]
  },
  {
   "cell_type": "code",
   "execution_count": 3,
   "metadata": {},
   "outputs": [],
   "source": [
    "import sqlite3\n",
    "conn = sqlite3.connect(\"m4_survey_data.sqlite\") # open a database connection"
   ]
  },
  {
   "cell_type": "markdown",
   "metadata": {},
   "source": [
    "Import pandas module.\n"
   ]
  },
  {
   "cell_type": "code",
   "execution_count": 4,
   "metadata": {},
   "outputs": [],
   "source": [
    "import pandas as pd\n",
    "import numpy as np\n",
    "import matplotlib.pyplot as plt\n",
    "import seaborn as sns\n",
    "\n",
    "from pandas.api.types import is_numeric_dtype  "
   ]
  },
  {
   "cell_type": "markdown",
   "metadata": {},
   "source": [
    "## Demo: How to run an sql query\n"
   ]
  },
  {
   "cell_type": "code",
   "execution_count": 5,
   "metadata": {},
   "outputs": [
    {
     "data": {
      "text/html": [
       "<div>\n",
       "<style scoped>\n",
       "    .dataframe tbody tr th:only-of-type {\n",
       "        vertical-align: middle;\n",
       "    }\n",
       "\n",
       "    .dataframe tbody tr th {\n",
       "        vertical-align: top;\n",
       "    }\n",
       "\n",
       "    .dataframe thead th {\n",
       "        text-align: right;\n",
       "    }\n",
       "</style>\n",
       "<table border=\"1\" class=\"dataframe\">\n",
       "  <thead>\n",
       "    <tr style=\"text-align: right;\">\n",
       "      <th></th>\n",
       "      <th>COUNT(*)</th>\n",
       "    </tr>\n",
       "  </thead>\n",
       "  <tbody>\n",
       "    <tr>\n",
       "      <th>0</th>\n",
       "      <td>11398</td>\n",
       "    </tr>\n",
       "  </tbody>\n",
       "</table>\n",
       "</div>"
      ],
      "text/plain": [
       "   COUNT(*)\n",
       "0     11398"
      ]
     },
     "execution_count": 5,
     "metadata": {},
     "output_type": "execute_result"
    }
   ],
   "source": [
    "# print how many rows are there in the table named 'master'\n",
    "QUERY = \"\"\"\n",
    "SELECT COUNT(*)\n",
    "FROM master\n",
    "\"\"\"\n",
    "\n",
    "# the read_sql_query runs the sql query and returns the data as a dataframe\n",
    "df = pd.read_sql_query(QUERY, conn)\n",
    "df.head()"
   ]
  },
  {
   "cell_type": "markdown",
   "metadata": {},
   "source": [
    "## Demo: How to list all tables\n"
   ]
  },
  {
   "cell_type": "code",
   "execution_count": 6,
   "metadata": {
    "scrolled": true
   },
   "outputs": [
    {
     "data": {
      "text/html": [
       "<div>\n",
       "<style scoped>\n",
       "    .dataframe tbody tr th:only-of-type {\n",
       "        vertical-align: middle;\n",
       "    }\n",
       "\n",
       "    .dataframe tbody tr th {\n",
       "        vertical-align: top;\n",
       "    }\n",
       "\n",
       "    .dataframe thead th {\n",
       "        text-align: right;\n",
       "    }\n",
       "</style>\n",
       "<table border=\"1\" class=\"dataframe\">\n",
       "  <thead>\n",
       "    <tr style=\"text-align: right;\">\n",
       "      <th></th>\n",
       "      <th>Table_Name</th>\n",
       "    </tr>\n",
       "  </thead>\n",
       "  <tbody>\n",
       "    <tr>\n",
       "      <th>0</th>\n",
       "      <td>EduOther</td>\n",
       "    </tr>\n",
       "    <tr>\n",
       "      <th>1</th>\n",
       "      <td>DevType</td>\n",
       "    </tr>\n",
       "    <tr>\n",
       "      <th>2</th>\n",
       "      <td>LastInt</td>\n",
       "    </tr>\n",
       "    <tr>\n",
       "      <th>3</th>\n",
       "      <td>JobFactors</td>\n",
       "    </tr>\n",
       "    <tr>\n",
       "      <th>4</th>\n",
       "      <td>WorkPlan</td>\n",
       "    </tr>\n",
       "    <tr>\n",
       "      <th>5</th>\n",
       "      <td>WorkChallenge</td>\n",
       "    </tr>\n",
       "    <tr>\n",
       "      <th>6</th>\n",
       "      <td>LanguageWorkedWith</td>\n",
       "    </tr>\n",
       "    <tr>\n",
       "      <th>7</th>\n",
       "      <td>LanguageDesireNextYear</td>\n",
       "    </tr>\n",
       "    <tr>\n",
       "      <th>8</th>\n",
       "      <td>DatabaseWorkedWith</td>\n",
       "    </tr>\n",
       "    <tr>\n",
       "      <th>9</th>\n",
       "      <td>DatabaseDesireNextYear</td>\n",
       "    </tr>\n",
       "    <tr>\n",
       "      <th>10</th>\n",
       "      <td>PlatformWorkedWith</td>\n",
       "    </tr>\n",
       "    <tr>\n",
       "      <th>11</th>\n",
       "      <td>PlatformDesireNextYear</td>\n",
       "    </tr>\n",
       "    <tr>\n",
       "      <th>12</th>\n",
       "      <td>WebFrameWorkedWith</td>\n",
       "    </tr>\n",
       "    <tr>\n",
       "      <th>13</th>\n",
       "      <td>WebFrameDesireNextYear</td>\n",
       "    </tr>\n",
       "    <tr>\n",
       "      <th>14</th>\n",
       "      <td>MiscTechWorkedWith</td>\n",
       "    </tr>\n",
       "    <tr>\n",
       "      <th>15</th>\n",
       "      <td>MiscTechDesireNextYear</td>\n",
       "    </tr>\n",
       "    <tr>\n",
       "      <th>16</th>\n",
       "      <td>DevEnviron</td>\n",
       "    </tr>\n",
       "    <tr>\n",
       "      <th>17</th>\n",
       "      <td>Containers</td>\n",
       "    </tr>\n",
       "    <tr>\n",
       "      <th>18</th>\n",
       "      <td>SOVisitTo</td>\n",
       "    </tr>\n",
       "    <tr>\n",
       "      <th>19</th>\n",
       "      <td>SONewContent</td>\n",
       "    </tr>\n",
       "    <tr>\n",
       "      <th>20</th>\n",
       "      <td>Gender</td>\n",
       "    </tr>\n",
       "    <tr>\n",
       "      <th>21</th>\n",
       "      <td>Sexuality</td>\n",
       "    </tr>\n",
       "    <tr>\n",
       "      <th>22</th>\n",
       "      <td>Ethnicity</td>\n",
       "    </tr>\n",
       "    <tr>\n",
       "      <th>23</th>\n",
       "      <td>master</td>\n",
       "    </tr>\n",
       "  </tbody>\n",
       "</table>\n",
       "</div>"
      ],
      "text/plain": [
       "                Table_Name\n",
       "0                 EduOther\n",
       "1                  DevType\n",
       "2                  LastInt\n",
       "3               JobFactors\n",
       "4                 WorkPlan\n",
       "5            WorkChallenge\n",
       "6       LanguageWorkedWith\n",
       "7   LanguageDesireNextYear\n",
       "8       DatabaseWorkedWith\n",
       "9   DatabaseDesireNextYear\n",
       "10      PlatformWorkedWith\n",
       "11  PlatformDesireNextYear\n",
       "12      WebFrameWorkedWith\n",
       "13  WebFrameDesireNextYear\n",
       "14      MiscTechWorkedWith\n",
       "15  MiscTechDesireNextYear\n",
       "16              DevEnviron\n",
       "17              Containers\n",
       "18               SOVisitTo\n",
       "19            SONewContent\n",
       "20                  Gender\n",
       "21               Sexuality\n",
       "22               Ethnicity\n",
       "23                  master"
      ]
     },
     "execution_count": 6,
     "metadata": {},
     "output_type": "execute_result"
    }
   ],
   "source": [
    "# print all the tables names in the database\n",
    "QUERY = \"\"\"\n",
    "SELECT name as Table_Name FROM\n",
    "sqlite_master WHERE\n",
    "type = 'table'\n",
    "\"\"\"\n",
    "# the read_sql_query runs the sql query and returns the data as a dataframe\n",
    "pd.read_sql_query(QUERY, conn)\n"
   ]
  },
  {
   "cell_type": "markdown",
   "metadata": {},
   "source": [
    "## Demo: How to run a group by query\n"
   ]
  },
  {
   "cell_type": "code",
   "execution_count": 7,
   "metadata": {},
   "outputs": [
    {
     "data": {
      "text/html": [
       "<div>\n",
       "<style scoped>\n",
       "    .dataframe tbody tr th:only-of-type {\n",
       "        vertical-align: middle;\n",
       "    }\n",
       "\n",
       "    .dataframe tbody tr th {\n",
       "        vertical-align: top;\n",
       "    }\n",
       "\n",
       "    .dataframe thead th {\n",
       "        text-align: right;\n",
       "    }\n",
       "</style>\n",
       "<table border=\"1\" class=\"dataframe\">\n",
       "  <thead>\n",
       "    <tr style=\"text-align: right;\">\n",
       "      <th></th>\n",
       "      <th>Age</th>\n",
       "      <th>count</th>\n",
       "    </tr>\n",
       "  </thead>\n",
       "  <tbody>\n",
       "    <tr>\n",
       "      <th>0</th>\n",
       "      <td>NaN</td>\n",
       "      <td>287</td>\n",
       "    </tr>\n",
       "    <tr>\n",
       "      <th>1</th>\n",
       "      <td>16.0</td>\n",
       "      <td>3</td>\n",
       "    </tr>\n",
       "    <tr>\n",
       "      <th>2</th>\n",
       "      <td>17.0</td>\n",
       "      <td>6</td>\n",
       "    </tr>\n",
       "    <tr>\n",
       "      <th>3</th>\n",
       "      <td>18.0</td>\n",
       "      <td>29</td>\n",
       "    </tr>\n",
       "    <tr>\n",
       "      <th>4</th>\n",
       "      <td>19.0</td>\n",
       "      <td>78</td>\n",
       "    </tr>\n",
       "    <tr>\n",
       "      <th>5</th>\n",
       "      <td>20.0</td>\n",
       "      <td>109</td>\n",
       "    </tr>\n",
       "    <tr>\n",
       "      <th>6</th>\n",
       "      <td>21.0</td>\n",
       "      <td>203</td>\n",
       "    </tr>\n",
       "    <tr>\n",
       "      <th>7</th>\n",
       "      <td>22.0</td>\n",
       "      <td>406</td>\n",
       "    </tr>\n",
       "    <tr>\n",
       "      <th>8</th>\n",
       "      <td>23.0</td>\n",
       "      <td>581</td>\n",
       "    </tr>\n",
       "    <tr>\n",
       "      <th>9</th>\n",
       "      <td>24.0</td>\n",
       "      <td>679</td>\n",
       "    </tr>\n",
       "    <tr>\n",
       "      <th>10</th>\n",
       "      <td>25.0</td>\n",
       "      <td>738</td>\n",
       "    </tr>\n",
       "    <tr>\n",
       "      <th>11</th>\n",
       "      <td>26.0</td>\n",
       "      <td>720</td>\n",
       "    </tr>\n",
       "    <tr>\n",
       "      <th>12</th>\n",
       "      <td>27.0</td>\n",
       "      <td>724</td>\n",
       "    </tr>\n",
       "    <tr>\n",
       "      <th>13</th>\n",
       "      <td>28.0</td>\n",
       "      <td>787</td>\n",
       "    </tr>\n",
       "    <tr>\n",
       "      <th>14</th>\n",
       "      <td>29.0</td>\n",
       "      <td>697</td>\n",
       "    </tr>\n",
       "    <tr>\n",
       "      <th>15</th>\n",
       "      <td>30.0</td>\n",
       "      <td>651</td>\n",
       "    </tr>\n",
       "    <tr>\n",
       "      <th>16</th>\n",
       "      <td>31.0</td>\n",
       "      <td>531</td>\n",
       "    </tr>\n",
       "    <tr>\n",
       "      <th>17</th>\n",
       "      <td>32.0</td>\n",
       "      <td>489</td>\n",
       "    </tr>\n",
       "    <tr>\n",
       "      <th>18</th>\n",
       "      <td>33.0</td>\n",
       "      <td>483</td>\n",
       "    </tr>\n",
       "    <tr>\n",
       "      <th>19</th>\n",
       "      <td>34.0</td>\n",
       "      <td>395</td>\n",
       "    </tr>\n",
       "    <tr>\n",
       "      <th>20</th>\n",
       "      <td>35.0</td>\n",
       "      <td>393</td>\n",
       "    </tr>\n",
       "    <tr>\n",
       "      <th>21</th>\n",
       "      <td>36.0</td>\n",
       "      <td>308</td>\n",
       "    </tr>\n",
       "    <tr>\n",
       "      <th>22</th>\n",
       "      <td>37.0</td>\n",
       "      <td>280</td>\n",
       "    </tr>\n",
       "    <tr>\n",
       "      <th>23</th>\n",
       "      <td>38.0</td>\n",
       "      <td>279</td>\n",
       "    </tr>\n",
       "    <tr>\n",
       "      <th>24</th>\n",
       "      <td>39.0</td>\n",
       "      <td>232</td>\n",
       "    </tr>\n",
       "    <tr>\n",
       "      <th>25</th>\n",
       "      <td>40.0</td>\n",
       "      <td>187</td>\n",
       "    </tr>\n",
       "    <tr>\n",
       "      <th>26</th>\n",
       "      <td>41.0</td>\n",
       "      <td>136</td>\n",
       "    </tr>\n",
       "    <tr>\n",
       "      <th>27</th>\n",
       "      <td>42.0</td>\n",
       "      <td>162</td>\n",
       "    </tr>\n",
       "    <tr>\n",
       "      <th>28</th>\n",
       "      <td>43.0</td>\n",
       "      <td>100</td>\n",
       "    </tr>\n",
       "    <tr>\n",
       "      <th>29</th>\n",
       "      <td>44.0</td>\n",
       "      <td>95</td>\n",
       "    </tr>\n",
       "    <tr>\n",
       "      <th>30</th>\n",
       "      <td>45.0</td>\n",
       "      <td>85</td>\n",
       "    </tr>\n",
       "    <tr>\n",
       "      <th>31</th>\n",
       "      <td>46.0</td>\n",
       "      <td>66</td>\n",
       "    </tr>\n",
       "    <tr>\n",
       "      <th>32</th>\n",
       "      <td>47.0</td>\n",
       "      <td>68</td>\n",
       "    </tr>\n",
       "    <tr>\n",
       "      <th>33</th>\n",
       "      <td>48.0</td>\n",
       "      <td>64</td>\n",
       "    </tr>\n",
       "    <tr>\n",
       "      <th>34</th>\n",
       "      <td>49.0</td>\n",
       "      <td>66</td>\n",
       "    </tr>\n",
       "    <tr>\n",
       "      <th>35</th>\n",
       "      <td>50.0</td>\n",
       "      <td>57</td>\n",
       "    </tr>\n",
       "    <tr>\n",
       "      <th>36</th>\n",
       "      <td>51.0</td>\n",
       "      <td>29</td>\n",
       "    </tr>\n",
       "    <tr>\n",
       "      <th>37</th>\n",
       "      <td>52.0</td>\n",
       "      <td>41</td>\n",
       "    </tr>\n",
       "    <tr>\n",
       "      <th>38</th>\n",
       "      <td>53.0</td>\n",
       "      <td>32</td>\n",
       "    </tr>\n",
       "    <tr>\n",
       "      <th>39</th>\n",
       "      <td>54.0</td>\n",
       "      <td>26</td>\n",
       "    </tr>\n",
       "    <tr>\n",
       "      <th>40</th>\n",
       "      <td>55.0</td>\n",
       "      <td>13</td>\n",
       "    </tr>\n",
       "    <tr>\n",
       "      <th>41</th>\n",
       "      <td>56.0</td>\n",
       "      <td>16</td>\n",
       "    </tr>\n",
       "    <tr>\n",
       "      <th>42</th>\n",
       "      <td>57.0</td>\n",
       "      <td>11</td>\n",
       "    </tr>\n",
       "    <tr>\n",
       "      <th>43</th>\n",
       "      <td>58.0</td>\n",
       "      <td>12</td>\n",
       "    </tr>\n",
       "    <tr>\n",
       "      <th>44</th>\n",
       "      <td>59.0</td>\n",
       "      <td>11</td>\n",
       "    </tr>\n",
       "    <tr>\n",
       "      <th>45</th>\n",
       "      <td>60.0</td>\n",
       "      <td>2</td>\n",
       "    </tr>\n",
       "    <tr>\n",
       "      <th>46</th>\n",
       "      <td>61.0</td>\n",
       "      <td>10</td>\n",
       "    </tr>\n",
       "    <tr>\n",
       "      <th>47</th>\n",
       "      <td>62.0</td>\n",
       "      <td>5</td>\n",
       "    </tr>\n",
       "    <tr>\n",
       "      <th>48</th>\n",
       "      <td>63.0</td>\n",
       "      <td>7</td>\n",
       "    </tr>\n",
       "    <tr>\n",
       "      <th>49</th>\n",
       "      <td>65.0</td>\n",
       "      <td>2</td>\n",
       "    </tr>\n",
       "    <tr>\n",
       "      <th>50</th>\n",
       "      <td>66.0</td>\n",
       "      <td>1</td>\n",
       "    </tr>\n",
       "    <tr>\n",
       "      <th>51</th>\n",
       "      <td>67.0</td>\n",
       "      <td>1</td>\n",
       "    </tr>\n",
       "    <tr>\n",
       "      <th>52</th>\n",
       "      <td>69.0</td>\n",
       "      <td>1</td>\n",
       "    </tr>\n",
       "    <tr>\n",
       "      <th>53</th>\n",
       "      <td>71.0</td>\n",
       "      <td>2</td>\n",
       "    </tr>\n",
       "    <tr>\n",
       "      <th>54</th>\n",
       "      <td>72.0</td>\n",
       "      <td>1</td>\n",
       "    </tr>\n",
       "    <tr>\n",
       "      <th>55</th>\n",
       "      <td>99.0</td>\n",
       "      <td>1</td>\n",
       "    </tr>\n",
       "  </tbody>\n",
       "</table>\n",
       "</div>"
      ],
      "text/plain": [
       "     Age  count\n",
       "0    NaN    287\n",
       "1   16.0      3\n",
       "2   17.0      6\n",
       "3   18.0     29\n",
       "4   19.0     78\n",
       "5   20.0    109\n",
       "6   21.0    203\n",
       "7   22.0    406\n",
       "8   23.0    581\n",
       "9   24.0    679\n",
       "10  25.0    738\n",
       "11  26.0    720\n",
       "12  27.0    724\n",
       "13  28.0    787\n",
       "14  29.0    697\n",
       "15  30.0    651\n",
       "16  31.0    531\n",
       "17  32.0    489\n",
       "18  33.0    483\n",
       "19  34.0    395\n",
       "20  35.0    393\n",
       "21  36.0    308\n",
       "22  37.0    280\n",
       "23  38.0    279\n",
       "24  39.0    232\n",
       "25  40.0    187\n",
       "26  41.0    136\n",
       "27  42.0    162\n",
       "28  43.0    100\n",
       "29  44.0     95\n",
       "30  45.0     85\n",
       "31  46.0     66\n",
       "32  47.0     68\n",
       "33  48.0     64\n",
       "34  49.0     66\n",
       "35  50.0     57\n",
       "36  51.0     29\n",
       "37  52.0     41\n",
       "38  53.0     32\n",
       "39  54.0     26\n",
       "40  55.0     13\n",
       "41  56.0     16\n",
       "42  57.0     11\n",
       "43  58.0     12\n",
       "44  59.0     11\n",
       "45  60.0      2\n",
       "46  61.0     10\n",
       "47  62.0      5\n",
       "48  63.0      7\n",
       "49  65.0      2\n",
       "50  66.0      1\n",
       "51  67.0      1\n",
       "52  69.0      1\n",
       "53  71.0      2\n",
       "54  72.0      1\n",
       "55  99.0      1"
      ]
     },
     "execution_count": 7,
     "metadata": {},
     "output_type": "execute_result"
    }
   ],
   "source": [
    "QUERY = \"\"\"\n",
    "SELECT Age, COUNT(*) as count\n",
    "FROM master\n",
    "group by age\n",
    "order by age\n",
    "\"\"\"\n",
    "\n",
    "pd.read_sql_query(QUERY, conn) "
   ]
  },
  {
   "cell_type": "markdown",
   "metadata": {},
   "source": [
    "## Demo: How to describe a table\n"
   ]
  },
  {
   "cell_type": "code",
   "execution_count": 8,
   "metadata": {},
   "outputs": [],
   "source": [
    "table_name = 'master'  # the table you wish to describe\n",
    "\n",
    "QUERY = \"\"\"\n",
    "SELECT sql FROM sqlite_master\n",
    "WHERE name = '{}'\n",
    "\"\"\".format(table_name)\n",
    "\n",
    "df = pd.read_sql_query(QUERY, conn)\n",
    "#print(df.iat[0,0])   #print of table fields"
   ]
  },
  {
   "cell_type": "code",
   "execution_count": 9,
   "metadata": {},
   "outputs": [],
   "source": [
    "table_name = 'DatabaseWorkedWith'  # the table you wish to describe\n",
    "\n",
    "QUERY = \"\"\"\n",
    "SELECT sql FROM sqlite_master\n",
    "WHERE name = '{}'\n",
    "\"\"\".format(table_name)\n",
    "\n",
    "df = pd.read_sql_query(QUERY, conn)\n",
    "#print(df.iat[0,0])   #print of table fields"
   ]
  },
  {
   "cell_type": "markdown",
   "metadata": {},
   "source": [
    "# Hands-on Lab\n"
   ]
  },
  {
   "cell_type": "markdown",
   "metadata": {},
   "source": [
    "## Visualizing distribution of data\n"
   ]
  },
  {
   "cell_type": "markdown",
   "metadata": {},
   "source": [
    "### Histograms\n"
   ]
  },
  {
   "cell_type": "markdown",
   "metadata": {},
   "source": [
    "Plot a histogram of `ConvertedComp.`\n"
   ]
  },
  {
   "cell_type": "code",
   "execution_count": 10,
   "metadata": {},
   "outputs": [
    {
     "data": {
      "text/html": [
       "<div>\n",
       "<style scoped>\n",
       "    .dataframe tbody tr th:only-of-type {\n",
       "        vertical-align: middle;\n",
       "    }\n",
       "\n",
       "    .dataframe tbody tr th {\n",
       "        vertical-align: top;\n",
       "    }\n",
       "\n",
       "    .dataframe thead th {\n",
       "        text-align: right;\n",
       "    }\n",
       "</style>\n",
       "<table border=\"1\" class=\"dataframe\">\n",
       "  <thead>\n",
       "    <tr style=\"text-align: right;\">\n",
       "      <th></th>\n",
       "      <th>index</th>\n",
       "      <th>Respondent</th>\n",
       "      <th>MainBranch</th>\n",
       "      <th>Hobbyist</th>\n",
       "      <th>OpenSourcer</th>\n",
       "      <th>OpenSource</th>\n",
       "      <th>Employment</th>\n",
       "      <th>Country</th>\n",
       "      <th>Student</th>\n",
       "      <th>EdLevel</th>\n",
       "      <th>...</th>\n",
       "      <th>SOPartFreq</th>\n",
       "      <th>SOJobs</th>\n",
       "      <th>EntTeams</th>\n",
       "      <th>SOComm</th>\n",
       "      <th>WelcomeChange</th>\n",
       "      <th>Age</th>\n",
       "      <th>Trans</th>\n",
       "      <th>Dependents</th>\n",
       "      <th>SurveyLength</th>\n",
       "      <th>SurveyEase</th>\n",
       "    </tr>\n",
       "  </thead>\n",
       "  <tbody>\n",
       "    <tr>\n",
       "      <th>0</th>\n",
       "      <td>0</td>\n",
       "      <td>4</td>\n",
       "      <td>I am a developer by profession</td>\n",
       "      <td>No</td>\n",
       "      <td>Never</td>\n",
       "      <td>The quality of OSS and closed source software ...</td>\n",
       "      <td>Employed full-time</td>\n",
       "      <td>United States</td>\n",
       "      <td>No</td>\n",
       "      <td>Bachelor’s degree (BA, BS, B.Eng., etc.)</td>\n",
       "      <td>...</td>\n",
       "      <td>Less than once per month or monthly</td>\n",
       "      <td>Yes</td>\n",
       "      <td>No, and I don't know what those are</td>\n",
       "      <td>No, not really</td>\n",
       "      <td>Just as welcome now as I felt last year</td>\n",
       "      <td>22.0</td>\n",
       "      <td>No</td>\n",
       "      <td>No</td>\n",
       "      <td>Appropriate in length</td>\n",
       "      <td>Easy</td>\n",
       "    </tr>\n",
       "    <tr>\n",
       "      <th>1</th>\n",
       "      <td>1</td>\n",
       "      <td>9</td>\n",
       "      <td>I am a developer by profession</td>\n",
       "      <td>Yes</td>\n",
       "      <td>Once a month or more often</td>\n",
       "      <td>The quality of OSS and closed source software ...</td>\n",
       "      <td>Employed full-time</td>\n",
       "      <td>New Zealand</td>\n",
       "      <td>No</td>\n",
       "      <td>Some college/university study without earning ...</td>\n",
       "      <td>...</td>\n",
       "      <td>Less than once per month or monthly</td>\n",
       "      <td>No, I knew that Stack Overflow had a job board...</td>\n",
       "      <td>No, and I don't know what those are</td>\n",
       "      <td>Yes, somewhat</td>\n",
       "      <td>Just as welcome now as I felt last year</td>\n",
       "      <td>23.0</td>\n",
       "      <td>No</td>\n",
       "      <td>No</td>\n",
       "      <td>Appropriate in length</td>\n",
       "      <td>Neither easy nor difficult</td>\n",
       "    </tr>\n",
       "    <tr>\n",
       "      <th>2</th>\n",
       "      <td>2</td>\n",
       "      <td>13</td>\n",
       "      <td>I am a developer by profession</td>\n",
       "      <td>Yes</td>\n",
       "      <td>Less than once a month but more than once per ...</td>\n",
       "      <td>OSS is, on average, of HIGHER quality than pro...</td>\n",
       "      <td>Employed full-time</td>\n",
       "      <td>United States</td>\n",
       "      <td>No</td>\n",
       "      <td>Master’s degree (MA, MS, M.Eng., MBA, etc.)</td>\n",
       "      <td>...</td>\n",
       "      <td>Less than once per month or monthly</td>\n",
       "      <td>Yes</td>\n",
       "      <td>No, I've heard of them, but I am not part of a...</td>\n",
       "      <td>Neutral</td>\n",
       "      <td>Somewhat more welcome now than last year</td>\n",
       "      <td>28.0</td>\n",
       "      <td>No</td>\n",
       "      <td>Yes</td>\n",
       "      <td>Appropriate in length</td>\n",
       "      <td>Easy</td>\n",
       "    </tr>\n",
       "    <tr>\n",
       "      <th>3</th>\n",
       "      <td>3</td>\n",
       "      <td>16</td>\n",
       "      <td>I am a developer by profession</td>\n",
       "      <td>Yes</td>\n",
       "      <td>Never</td>\n",
       "      <td>The quality of OSS and closed source software ...</td>\n",
       "      <td>Employed full-time</td>\n",
       "      <td>United Kingdom</td>\n",
       "      <td>No</td>\n",
       "      <td>Master’s degree (MA, MS, M.Eng., MBA, etc.)</td>\n",
       "      <td>...</td>\n",
       "      <td>Less than once per month or monthly</td>\n",
       "      <td>Yes</td>\n",
       "      <td>No, I've heard of them, but I am not part of a...</td>\n",
       "      <td>Yes, somewhat</td>\n",
       "      <td>Just as welcome now as I felt last year</td>\n",
       "      <td>26.0</td>\n",
       "      <td>No</td>\n",
       "      <td>No</td>\n",
       "      <td>Appropriate in length</td>\n",
       "      <td>Neither easy nor difficult</td>\n",
       "    </tr>\n",
       "    <tr>\n",
       "      <th>4</th>\n",
       "      <td>4</td>\n",
       "      <td>17</td>\n",
       "      <td>I am a developer by profession</td>\n",
       "      <td>Yes</td>\n",
       "      <td>Less than once a month but more than once per ...</td>\n",
       "      <td>The quality of OSS and closed source software ...</td>\n",
       "      <td>Employed full-time</td>\n",
       "      <td>Australia</td>\n",
       "      <td>No</td>\n",
       "      <td>Bachelor’s degree (BA, BS, B.Eng., etc.)</td>\n",
       "      <td>...</td>\n",
       "      <td>A few times per week</td>\n",
       "      <td>No, I didn't know that Stack Overflow had a jo...</td>\n",
       "      <td>No, I've heard of them, but I am not part of a...</td>\n",
       "      <td>Yes, somewhat</td>\n",
       "      <td>Just as welcome now as I felt last year</td>\n",
       "      <td>29.0</td>\n",
       "      <td>No</td>\n",
       "      <td>No</td>\n",
       "      <td>Appropriate in length</td>\n",
       "      <td>Easy</td>\n",
       "    </tr>\n",
       "    <tr>\n",
       "      <th>...</th>\n",
       "      <td>...</td>\n",
       "      <td>...</td>\n",
       "      <td>...</td>\n",
       "      <td>...</td>\n",
       "      <td>...</td>\n",
       "      <td>...</td>\n",
       "      <td>...</td>\n",
       "      <td>...</td>\n",
       "      <td>...</td>\n",
       "      <td>...</td>\n",
       "      <td>...</td>\n",
       "      <td>...</td>\n",
       "      <td>...</td>\n",
       "      <td>...</td>\n",
       "      <td>...</td>\n",
       "      <td>...</td>\n",
       "      <td>...</td>\n",
       "      <td>...</td>\n",
       "      <td>...</td>\n",
       "      <td>...</td>\n",
       "      <td>...</td>\n",
       "    </tr>\n",
       "    <tr>\n",
       "      <th>11393</th>\n",
       "      <td>11393</td>\n",
       "      <td>25136</td>\n",
       "      <td>I am a developer by profession</td>\n",
       "      <td>Yes</td>\n",
       "      <td>Never</td>\n",
       "      <td>OSS is, on average, of HIGHER quality than pro...</td>\n",
       "      <td>Employed full-time</td>\n",
       "      <td>United States</td>\n",
       "      <td>No</td>\n",
       "      <td>Master’s degree (MA, MS, M.Eng., MBA, etc.)</td>\n",
       "      <td>...</td>\n",
       "      <td>None</td>\n",
       "      <td>No, I knew that Stack Overflow had a job board...</td>\n",
       "      <td>No, I've heard of them, but I am not part of a...</td>\n",
       "      <td>Yes, somewhat</td>\n",
       "      <td>Just as welcome now as I felt last year</td>\n",
       "      <td>36.0</td>\n",
       "      <td>No</td>\n",
       "      <td>No</td>\n",
       "      <td>Appropriate in length</td>\n",
       "      <td>Difficult</td>\n",
       "    </tr>\n",
       "    <tr>\n",
       "      <th>11394</th>\n",
       "      <td>11394</td>\n",
       "      <td>25137</td>\n",
       "      <td>I am a developer by profession</td>\n",
       "      <td>Yes</td>\n",
       "      <td>Never</td>\n",
       "      <td>The quality of OSS and closed source software ...</td>\n",
       "      <td>Employed full-time</td>\n",
       "      <td>Poland</td>\n",
       "      <td>No</td>\n",
       "      <td>Master’s degree (MA, MS, M.Eng., MBA, etc.)</td>\n",
       "      <td>...</td>\n",
       "      <td>I have never participated in Q&amp;A on Stack Over...</td>\n",
       "      <td>No, I knew that Stack Overflow had a job board...</td>\n",
       "      <td>No, and I don't know what those are</td>\n",
       "      <td>Neutral</td>\n",
       "      <td>A lot more welcome now than last year</td>\n",
       "      <td>25.0</td>\n",
       "      <td>No</td>\n",
       "      <td>No</td>\n",
       "      <td>Appropriate in length</td>\n",
       "      <td>Neither easy nor difficult</td>\n",
       "    </tr>\n",
       "    <tr>\n",
       "      <th>11395</th>\n",
       "      <td>11395</td>\n",
       "      <td>25138</td>\n",
       "      <td>I am a developer by profession</td>\n",
       "      <td>Yes</td>\n",
       "      <td>Less than once per year</td>\n",
       "      <td>The quality of OSS and closed source software ...</td>\n",
       "      <td>Employed full-time</td>\n",
       "      <td>United States</td>\n",
       "      <td>No</td>\n",
       "      <td>Master’s degree (MA, MS, M.Eng., MBA, etc.)</td>\n",
       "      <td>...</td>\n",
       "      <td>I have never participated in Q&amp;A on Stack Over...</td>\n",
       "      <td>Yes</td>\n",
       "      <td>No, I've heard of them, but I am not part of a...</td>\n",
       "      <td>Neutral</td>\n",
       "      <td>A lot more welcome now than last year</td>\n",
       "      <td>34.0</td>\n",
       "      <td>No</td>\n",
       "      <td>Yes</td>\n",
       "      <td>Too long</td>\n",
       "      <td>Easy</td>\n",
       "    </tr>\n",
       "    <tr>\n",
       "      <th>11396</th>\n",
       "      <td>11396</td>\n",
       "      <td>25141</td>\n",
       "      <td>I am a developer by profession</td>\n",
       "      <td>Yes</td>\n",
       "      <td>Less than once a month but more than once per ...</td>\n",
       "      <td>OSS is, on average, of LOWER quality than prop...</td>\n",
       "      <td>Employed full-time</td>\n",
       "      <td>Switzerland</td>\n",
       "      <td>No</td>\n",
       "      <td>Secondary school (e.g. American high school, G...</td>\n",
       "      <td>...</td>\n",
       "      <td>Daily or almost daily</td>\n",
       "      <td>Yes</td>\n",
       "      <td>No, I've heard of them, but I am not part of a...</td>\n",
       "      <td>Yes, somewhat</td>\n",
       "      <td>Somewhat less welcome now than last year</td>\n",
       "      <td>25.0</td>\n",
       "      <td>No</td>\n",
       "      <td>No</td>\n",
       "      <td>Appropriate in length</td>\n",
       "      <td>Easy</td>\n",
       "    </tr>\n",
       "    <tr>\n",
       "      <th>11397</th>\n",
       "      <td>11397</td>\n",
       "      <td>25142</td>\n",
       "      <td>I am a developer by profession</td>\n",
       "      <td>Yes</td>\n",
       "      <td>Less than once a month but more than once per ...</td>\n",
       "      <td>OSS is, on average, of HIGHER quality than pro...</td>\n",
       "      <td>Employed full-time</td>\n",
       "      <td>United Kingdom</td>\n",
       "      <td>No</td>\n",
       "      <td>Other doctoral degree (Ph.D, Ed.D., etc.)</td>\n",
       "      <td>...</td>\n",
       "      <td>A few times per month or weekly</td>\n",
       "      <td>Yes</td>\n",
       "      <td>No, and I don't know what those are</td>\n",
       "      <td>Yes, somewhat</td>\n",
       "      <td>Just as welcome now as I felt last year</td>\n",
       "      <td>30.0</td>\n",
       "      <td>No</td>\n",
       "      <td>No</td>\n",
       "      <td>Appropriate in length</td>\n",
       "      <td>Easy</td>\n",
       "    </tr>\n",
       "  </tbody>\n",
       "</table>\n",
       "<p>11398 rows × 63 columns</p>\n",
       "</div>"
      ],
      "text/plain": [
       "       index  Respondent                      MainBranch Hobbyist  \\\n",
       "0          0           4  I am a developer by profession       No   \n",
       "1          1           9  I am a developer by profession      Yes   \n",
       "2          2          13  I am a developer by profession      Yes   \n",
       "3          3          16  I am a developer by profession      Yes   \n",
       "4          4          17  I am a developer by profession      Yes   \n",
       "...      ...         ...                             ...      ...   \n",
       "11393  11393       25136  I am a developer by profession      Yes   \n",
       "11394  11394       25137  I am a developer by profession      Yes   \n",
       "11395  11395       25138  I am a developer by profession      Yes   \n",
       "11396  11396       25141  I am a developer by profession      Yes   \n",
       "11397  11397       25142  I am a developer by profession      Yes   \n",
       "\n",
       "                                             OpenSourcer  \\\n",
       "0                                                  Never   \n",
       "1                             Once a month or more often   \n",
       "2      Less than once a month but more than once per ...   \n",
       "3                                                  Never   \n",
       "4      Less than once a month but more than once per ...   \n",
       "...                                                  ...   \n",
       "11393                                              Never   \n",
       "11394                                              Never   \n",
       "11395                            Less than once per year   \n",
       "11396  Less than once a month but more than once per ...   \n",
       "11397  Less than once a month but more than once per ...   \n",
       "\n",
       "                                              OpenSource          Employment  \\\n",
       "0      The quality of OSS and closed source software ...  Employed full-time   \n",
       "1      The quality of OSS and closed source software ...  Employed full-time   \n",
       "2      OSS is, on average, of HIGHER quality than pro...  Employed full-time   \n",
       "3      The quality of OSS and closed source software ...  Employed full-time   \n",
       "4      The quality of OSS and closed source software ...  Employed full-time   \n",
       "...                                                  ...                 ...   \n",
       "11393  OSS is, on average, of HIGHER quality than pro...  Employed full-time   \n",
       "11394  The quality of OSS and closed source software ...  Employed full-time   \n",
       "11395  The quality of OSS and closed source software ...  Employed full-time   \n",
       "11396  OSS is, on average, of LOWER quality than prop...  Employed full-time   \n",
       "11397  OSS is, on average, of HIGHER quality than pro...  Employed full-time   \n",
       "\n",
       "              Country Student  \\\n",
       "0       United States      No   \n",
       "1         New Zealand      No   \n",
       "2       United States      No   \n",
       "3      United Kingdom      No   \n",
       "4           Australia      No   \n",
       "...               ...     ...   \n",
       "11393   United States      No   \n",
       "11394          Poland      No   \n",
       "11395   United States      No   \n",
       "11396     Switzerland      No   \n",
       "11397  United Kingdom      No   \n",
       "\n",
       "                                                 EdLevel  ...  \\\n",
       "0               Bachelor’s degree (BA, BS, B.Eng., etc.)  ...   \n",
       "1      Some college/university study without earning ...  ...   \n",
       "2            Master’s degree (MA, MS, M.Eng., MBA, etc.)  ...   \n",
       "3            Master’s degree (MA, MS, M.Eng., MBA, etc.)  ...   \n",
       "4               Bachelor’s degree (BA, BS, B.Eng., etc.)  ...   \n",
       "...                                                  ...  ...   \n",
       "11393        Master’s degree (MA, MS, M.Eng., MBA, etc.)  ...   \n",
       "11394        Master’s degree (MA, MS, M.Eng., MBA, etc.)  ...   \n",
       "11395        Master’s degree (MA, MS, M.Eng., MBA, etc.)  ...   \n",
       "11396  Secondary school (e.g. American high school, G...  ...   \n",
       "11397          Other doctoral degree (Ph.D, Ed.D., etc.)  ...   \n",
       "\n",
       "                                              SOPartFreq  \\\n",
       "0                    Less than once per month or monthly   \n",
       "1                    Less than once per month or monthly   \n",
       "2                    Less than once per month or monthly   \n",
       "3                    Less than once per month or monthly   \n",
       "4                                   A few times per week   \n",
       "...                                                  ...   \n",
       "11393                                               None   \n",
       "11394  I have never participated in Q&A on Stack Over...   \n",
       "11395  I have never participated in Q&A on Stack Over...   \n",
       "11396                              Daily or almost daily   \n",
       "11397                    A few times per month or weekly   \n",
       "\n",
       "                                                  SOJobs  \\\n",
       "0                                                    Yes   \n",
       "1      No, I knew that Stack Overflow had a job board...   \n",
       "2                                                    Yes   \n",
       "3                                                    Yes   \n",
       "4      No, I didn't know that Stack Overflow had a jo...   \n",
       "...                                                  ...   \n",
       "11393  No, I knew that Stack Overflow had a job board...   \n",
       "11394  No, I knew that Stack Overflow had a job board...   \n",
       "11395                                                Yes   \n",
       "11396                                                Yes   \n",
       "11397                                                Yes   \n",
       "\n",
       "                                                EntTeams          SOComm  \\\n",
       "0                    No, and I don't know what those are  No, not really   \n",
       "1                    No, and I don't know what those are   Yes, somewhat   \n",
       "2      No, I've heard of them, but I am not part of a...         Neutral   \n",
       "3      No, I've heard of them, but I am not part of a...   Yes, somewhat   \n",
       "4      No, I've heard of them, but I am not part of a...   Yes, somewhat   \n",
       "...                                                  ...             ...   \n",
       "11393  No, I've heard of them, but I am not part of a...   Yes, somewhat   \n",
       "11394                No, and I don't know what those are         Neutral   \n",
       "11395  No, I've heard of them, but I am not part of a...         Neutral   \n",
       "11396  No, I've heard of them, but I am not part of a...   Yes, somewhat   \n",
       "11397                No, and I don't know what those are   Yes, somewhat   \n",
       "\n",
       "                                  WelcomeChange   Age Trans Dependents  \\\n",
       "0       Just as welcome now as I felt last year  22.0    No         No   \n",
       "1       Just as welcome now as I felt last year  23.0    No         No   \n",
       "2      Somewhat more welcome now than last year  28.0    No        Yes   \n",
       "3       Just as welcome now as I felt last year  26.0    No         No   \n",
       "4       Just as welcome now as I felt last year  29.0    No         No   \n",
       "...                                         ...   ...   ...        ...   \n",
       "11393   Just as welcome now as I felt last year  36.0    No         No   \n",
       "11394     A lot more welcome now than last year  25.0    No         No   \n",
       "11395     A lot more welcome now than last year  34.0    No        Yes   \n",
       "11396  Somewhat less welcome now than last year  25.0    No         No   \n",
       "11397   Just as welcome now as I felt last year  30.0    No         No   \n",
       "\n",
       "                SurveyLength                  SurveyEase  \n",
       "0      Appropriate in length                        Easy  \n",
       "1      Appropriate in length  Neither easy nor difficult  \n",
       "2      Appropriate in length                        Easy  \n",
       "3      Appropriate in length  Neither easy nor difficult  \n",
       "4      Appropriate in length                        Easy  \n",
       "...                      ...                         ...  \n",
       "11393  Appropriate in length                   Difficult  \n",
       "11394  Appropriate in length  Neither easy nor difficult  \n",
       "11395               Too long                        Easy  \n",
       "11396  Appropriate in length                        Easy  \n",
       "11397  Appropriate in length                        Easy  \n",
       "\n",
       "[11398 rows x 63 columns]"
      ]
     },
     "execution_count": 10,
     "metadata": {},
     "output_type": "execute_result"
    }
   ],
   "source": [
    "# Get table with ConvertedComp field - master table\n",
    "\n",
    "df = pd.read_sql_query(\"SELECT * FROM master\", conn)\n",
    "df"
   ]
  },
  {
   "cell_type": "code",
   "execution_count": 11,
   "metadata": {},
   "outputs": [
    {
     "data": {
      "text/plain": [
       "\"\\n# matplotlib histogram - to show data distribution\\nbins = np.linspace(min(df['ConvertedComp']), max(df['ConvertedComp']), 13)   #div into 12 bins\\nplt.figure(figsize=(15, 8), edgecolor='blue')\\nplt.hist(df['ConvertedComp'].dropna(), color = 'blue', edgecolor = 'black', bins = int(2000000/200000))\\n\\nplt.title('Distribution of Converted Salaries')\\nplt.xlabel('Months (Time)')\\nplt.ylabel('Conversion Amt.')\\n\""
      ]
     },
     "execution_count": 11,
     "metadata": {},
     "output_type": "execute_result"
    }
   ],
   "source": [
    "# your code goes here -REPLACE WITH CODE from M3 lAB USING Y vs YHat\n",
    "#WORKING CODE\n",
    "\n",
    "\"\"\"\n",
    "# matplotlib histogram - to show data distribution\n",
    "bins = np.linspace(min(df['ConvertedComp']), max(df['ConvertedComp']), 13)   #div into 12 bins\n",
    "plt.figure(figsize=(15, 8), edgecolor='blue')\n",
    "plt.hist(df['ConvertedComp'].dropna(), color = 'blue', edgecolor = 'black', bins = int(2000000/200000))\n",
    "\n",
    "plt.title('Distribution of Converted Salaries')\n",
    "plt.xlabel('Months (Time)')\n",
    "plt.ylabel('Conversion Amt.')\n",
    "\"\"\""
   ]
  },
  {
   "cell_type": "code",
   "execution_count": 12,
   "metadata": {},
   "outputs": [
    {
     "data": {
      "text/plain": [
       "Text(0, 0.5, 'Freqency Count')"
      ]
     },
     "execution_count": 12,
     "metadata": {},
     "output_type": "execute_result"
    },
    {
     "data": {
      "image/png": "[encoded data removed]",
      "text/plain": [
       "<Figure size 1080x576 with 1 Axes>"
      ]
     },
     "metadata": {
      "needs_background": "light"
     },
     "output_type": "display_data"
    }
   ],
   "source": [
    "#  Concept from Week 2 - HISTOGRAMS - Show distribution of converted salaries\n",
    "\n",
    "count, bin_edges = np.histogram(df['ConvertedComp'].dropna())\n",
    "plt.figure(figsize=(15, 8), edgecolor='blue')\n",
    "df[\"ConvertedComp\"].plot(kind = 'hist', xticks=bin_edges)\n",
    "\n",
    "#plt.figure(figsize=(15, 8), edgecolor='blue')\n",
    "plt.title(\"Distribution of Converted Salaries\")\n",
    "plt.xlabel(\"Converted Salaries ($USD)\")\n",
    "plt.ylabel(\"Freqency Count\")\n",
    "\n",
    "#plt.show()"
   ]
  },
  {
   "cell_type": "markdown",
   "metadata": {},
   "source": [
    "### Box Plots\n"
   ]
  },
  {
   "cell_type": "markdown",
   "metadata": {},
   "source": [
    "Plot a box plot of `Age.`\n"
   ]
  },
  {
   "cell_type": "code",
   "execution_count": 13,
   "metadata": {},
   "outputs": [
    {
     "data": {
      "text/plain": [
       "287"
      ]
     },
     "execution_count": 13,
     "metadata": {},
     "output_type": "execute_result"
    }
   ],
   "source": [
    "df['Age'].isnull().sum()  #See if any Missing Values"
   ]
  },
  {
   "cell_type": "code",
   "execution_count": 14,
   "metadata": {},
   "outputs": [],
   "source": [
    "# Replacement of Missing Values with Mean of AGE\n",
    "if df['Age'].isnull().sum():  #See if any Missing Values\n",
    "    meanAge = df['Age'].mean()\n",
    "    df['Age'].replace(np.nan, meanAge, inplace=True)"
   ]
  },
  {
   "cell_type": "code",
   "execution_count": 15,
   "metadata": {},
   "outputs": [
    {
     "data": {
      "text/plain": [
       "\"\\nplt.figure(figsize = (18, 4))\\n#figure_name = plt.figure(figsize=(width, height))\\nplt.boxplot(x=df['Age'], vert=False)\\nplt.title('BoxPlot of AGE Variable')\\nplt.xlabel('Age')\\n\""
      ]
     },
     "execution_count": 15,
     "metadata": {},
     "output_type": "execute_result"
    }
   ],
   "source": [
    "# your code goes here - Working code \n",
    "\"\"\"\n",
    "plt.figure(figsize = (18, 4))\n",
    "#figure_name = plt.figure(figsize=(width, height))\n",
    "plt.boxplot(x=df['Age'], vert=False)\n",
    "plt.title('BoxPlot of AGE Variable')\n",
    "plt.xlabel('Age')\n",
    "\"\"\""
   ]
  },
  {
   "cell_type": "code",
   "execution_count": 16,
   "metadata": {},
   "outputs": [
    {
     "data": {
      "image/png": "[encoded data removed]",
      "text/plain": [
       "<Figure size 1440x432 with 1 Axes>"
      ]
     },
     "metadata": {
      "needs_background": "light"
     },
     "output_type": "display_data"
    }
   ],
   "source": [
    "#Plot Boxplot\n",
    "# your code goes here - Code from Lecture\n",
    "\n",
    "df['Age'].plot(kind='box', vert=False, color='green', figsize=(20, 6))\n",
    "\n",
    "plt.title('Box plot of Age Variable', size=18)\n",
    "plt.xlabel('Age', size=16)\n",
    "plt.ylabel('Number of Responders', size=16)\n",
    "\n",
    "plt.show()"
   ]
  },
  {
   "cell_type": "markdown",
   "metadata": {},
   "source": [
    "## Visualizing relationships in data\n"
   ]
  },
  {
   "cell_type": "markdown",
   "metadata": {
    "tags": []
   },
   "source": [
    "### Scatter Plots\n"
   ]
  },
  {
   "cell_type": "markdown",
   "metadata": {},
   "source": [
    "Create a scatter plot of `Age` and `WorkWeekHrs.`\n"
   ]
  },
  {
   "cell_type": "code",
   "execution_count": 17,
   "metadata": {},
   "outputs": [
    {
     "data": {
      "text/html": [
       "<div>\n",
       "<style scoped>\n",
       "    .dataframe tbody tr th:only-of-type {\n",
       "        vertical-align: middle;\n",
       "    }\n",
       "\n",
       "    .dataframe tbody tr th {\n",
       "        vertical-align: top;\n",
       "    }\n",
       "\n",
       "    .dataframe thead th {\n",
       "        text-align: right;\n",
       "    }\n",
       "</style>\n",
       "<table border=\"1\" class=\"dataframe\">\n",
       "  <thead>\n",
       "    <tr style=\"text-align: right;\">\n",
       "      <th></th>\n",
       "      <th>Age</th>\n",
       "      <th>WorkWeekHrs</th>\n",
       "    </tr>\n",
       "  </thead>\n",
       "  <tbody>\n",
       "    <tr>\n",
       "      <th>0</th>\n",
       "      <td>22.0</td>\n",
       "      <td>80.0</td>\n",
       "    </tr>\n",
       "    <tr>\n",
       "      <th>1</th>\n",
       "      <td>23.0</td>\n",
       "      <td>32.0</td>\n",
       "    </tr>\n",
       "    <tr>\n",
       "      <th>2</th>\n",
       "      <td>28.0</td>\n",
       "      <td>40.0</td>\n",
       "    </tr>\n",
       "    <tr>\n",
       "      <th>3</th>\n",
       "      <td>26.0</td>\n",
       "      <td>40.0</td>\n",
       "    </tr>\n",
       "    <tr>\n",
       "      <th>4</th>\n",
       "      <td>29.0</td>\n",
       "      <td>45.0</td>\n",
       "    </tr>\n",
       "    <tr>\n",
       "      <th>...</th>\n",
       "      <td>...</td>\n",
       "      <td>...</td>\n",
       "    </tr>\n",
       "    <tr>\n",
       "      <th>11393</th>\n",
       "      <td>36.0</td>\n",
       "      <td>40.0</td>\n",
       "    </tr>\n",
       "    <tr>\n",
       "      <th>11394</th>\n",
       "      <td>25.0</td>\n",
       "      <td>40.0</td>\n",
       "    </tr>\n",
       "    <tr>\n",
       "      <th>11395</th>\n",
       "      <td>34.0</td>\n",
       "      <td>40.0</td>\n",
       "    </tr>\n",
       "    <tr>\n",
       "      <th>11396</th>\n",
       "      <td>25.0</td>\n",
       "      <td>42.5</td>\n",
       "    </tr>\n",
       "    <tr>\n",
       "      <th>11397</th>\n",
       "      <td>30.0</td>\n",
       "      <td>80.0</td>\n",
       "    </tr>\n",
       "  </tbody>\n",
       "</table>\n",
       "<p>11398 rows × 2 columns</p>\n",
       "</div>"
      ],
      "text/plain": [
       "        Age  WorkWeekHrs\n",
       "0      22.0         80.0\n",
       "1      23.0         32.0\n",
       "2      28.0         40.0\n",
       "3      26.0         40.0\n",
       "4      29.0         45.0\n",
       "...     ...          ...\n",
       "11393  36.0         40.0\n",
       "11394  25.0         40.0\n",
       "11395  34.0         40.0\n",
       "11396  25.0         42.5\n",
       "11397  30.0         80.0\n",
       "\n",
       "[11398 rows x 2 columns]"
      ]
     },
     "execution_count": 17,
     "metadata": {},
     "output_type": "execute_result"
    }
   ],
   "source": [
    "# Getting AGE & WORKWEEKHRS from master table\n",
    "\n",
    "QUERY = \"\"\"\n",
    "SELECT Age, WorkWeekHrs FROM master\n",
    "\"\"\"\n",
    "\n",
    "dfScattr = pd.read_sql_query(QUERY, conn)\n",
    "dfScattr"
   ]
  },
  {
   "cell_type": "code",
   "execution_count": 18,
   "metadata": {},
   "outputs": [],
   "source": [
    "if dfScattr['WorkWeekHrs'].isnull().sum():  #See if any Missing Values\n",
    "    meanScattr = dfScattr['WorkWeekHrs'].mean()\n",
    "    dfScattr['WorkWeekHrs'].replace(np.nan, meanScattr, inplace=True)\n",
    "    \n",
    "if dfScattr['Age'].isnull().sum():  #See if any Missing Values\n",
    "    meanAge = dfScattr['Age'].mean()\n",
    "    dfScattr['Age'].replace(np.nan, meanAge, inplace=True)"
   ]
  },
  {
   "cell_type": "code",
   "execution_count": 19,
   "metadata": {},
   "outputs": [
    {
     "data": {
      "text/plain": [
       "\"\\nplt.figure(figsize = (16, 8))\\n\\nsns.regplot(x= dfScattr['Age'], y=dfScattr['WorkWeekHrs'], data=dfScattr)\\nplt.ylim(0)\\n\\nplt.title('Scatter Plot: Age vs WorkWeekHrs')\\nplt.xlabel('Age')\\nplt.ylabel('WorkWeekHrs')\\nplt.show()\\n\""
      ]
     },
     "execution_count": 19,
     "metadata": {},
     "output_type": "execute_result"
    }
   ],
   "source": [
    "# your code goes here - WORKING CODE \n",
    "#https://matplotlib.org/stable/gallery/shapes_and_collections/scatter.html\n",
    "\"\"\"\n",
    "plt.figure(figsize = (16, 8))\n",
    "\n",
    "sns.regplot(x= dfScattr['Age'], y=dfScattr['WorkWeekHrs'], data=dfScattr)\n",
    "plt.ylim(0)\n",
    "\n",
    "plt.title('Scatter Plot: Age vs WorkWeekHrs')\n",
    "plt.xlabel('Age')\n",
    "plt.ylabel('WorkWeekHrs')\n",
    "plt.show()\n",
    "\"\"\""
   ]
  },
  {
   "cell_type": "code",
   "execution_count": 20,
   "metadata": {},
   "outputs": [
    {
     "data": {
      "image/png": "[encoded data removed]",
      "text/plain": [
       "<Figure size 1008x864 with 1 Axes>"
      ]
     },
     "metadata": {
      "needs_background": "light"
     },
     "output_type": "display_data"
    }
   ],
   "source": [
    "#Data Visualization with Python - Lecture Week 4\n",
    "\n",
    "dfScattr.plot(kind='scatter', x='Age', y='WorkWeekHrs', figsize=(14, 12), color='darkblue')\n",
    "\n",
    "plt.title('Scatter Plot: Age vs WorkWeekHrs', size=18)\n",
    "plt.xlabel('Age', size=14)\n",
    "plt.ylabel('WorkWeekHrs', size=14)\n",
    "plt.show()\n"
   ]
  },
  {
   "cell_type": "markdown",
   "metadata": {},
   "source": [
    "### Using SNS to plot better relation between Age & WorkWeekHrs - with RegPlot"
   ]
  },
  {
   "cell_type": "code",
   "execution_count": 99,
   "metadata": {},
   "outputs": [
    {
     "data": {
      "text/plain": [
       "Text(0, 0.5, 'WorkWeekHrs')"
      ]
     },
     "execution_count": 99,
     "metadata": {},
     "output_type": "execute_result"
    },
    {
     "data": {
      "image/png": "[encoded data removed]",
      "text/plain": [
       "<Figure size 864x720 with 1 Axes>"
      ]
     },
     "metadata": {
      "needs_background": "light"
     },
     "output_type": "display_data"
    }
   ],
   "source": [
    "#Using SNS to plot relationship between Age & WeekWorkHrs\n",
    "plt.figure(figsize = (12, 10))\n",
    "sns.regplot(x='Age', y='WorkWeekHrs', data=dfScattr)\n",
    "plt.ylim(0, )\n",
    "plt.title('Age vs WorkWeekHrs - Regression Line', size=18)\n",
    "plt.xlabel('Age', size=14)\n",
    "plt.ylabel('WorkWeekHrs', size=14)"
   ]
  },
  {
   "cell_type": "markdown",
   "metadata": {},
   "source": [
    "### Bubble Plots\n"
   ]
  },
  {
   "cell_type": "markdown",
   "metadata": {},
   "source": [
    "Create a bubble plot of `WorkWeekHrs` and `CodeRevHrs`, use `Age` column as bubble size.\n"
   ]
  },
  {
   "cell_type": "code",
   "execution_count": 22,
   "metadata": {},
   "outputs": [],
   "source": [
    "# Get relevant data: workweekHrs, Age, CodeRevHrs\n",
    "\n",
    "dfBubble = pd.read_sql_query(\"SELECT WorkWeekHrs, CodeRevHrs, Age FROM master\" , conn)"
   ]
  },
  {
   "cell_type": "code",
   "execution_count": 23,
   "metadata": {},
   "outputs": [],
   "source": [
    "# Single function to replace NANs for Numeric and Non-Numerical columns\n",
    "\n",
    "from pandas.api.types import is_numeric_dtype  \n",
    "\n",
    "def ReplMissVal(x):\n",
    "    \n",
    "    import numpy as np\n",
    "    import pandas as pd\n",
    "    \n",
    "    if is_numeric_dtype(x):\n",
    "        replcemnt = 0\n",
    "    else:\n",
    "        replcemnt = 'x'\n",
    "        \n",
    "    \n",
    "    if is_numeric_dtype(x):     #sinstance(x, np,numeric)\n",
    "        mean = x.mean()\n",
    "        if sum(pd.isnull(x)) > 0:\n",
    "            replcemnt = x.replace(np.nan, mean)\n",
    "        else:\n",
    "            pass\n",
    "    else:\n",
    "        mode = x.mode()\n",
    "        if sum(isnull(x)) > 0:\n",
    "            replcemnt = x.replace(np.nan, mode().iloc[0])\n",
    "    return replcemnt\n"
   ]
  },
  {
   "cell_type": "code",
   "execution_count": 24,
   "metadata": {},
   "outputs": [
    {
     "data": {
      "text/plain": [
       "0         4.781071\n",
       "1        12.000000\n",
       "2         5.000000\n",
       "3         4.781071\n",
       "4         5.000000\n",
       "           ...    \n",
       "11393     4.781071\n",
       "11394     5.000000\n",
       "11395     5.000000\n",
       "11396     2.000000\n",
       "11397     1.000000\n",
       "Name: CodeRevHrs, Length: 11398, dtype: float64"
      ]
     },
     "execution_count": 24,
     "metadata": {},
     "output_type": "execute_result"
    }
   ],
   "source": [
    "# ReplMissVal function call\n",
    "#df.reset_index()\n",
    "\n",
    "ReplMissVal(df['CodeRevHrs'])\n"
   ]
  },
  {
   "cell_type": "code",
   "execution_count": 25,
   "metadata": {
    "tags": []
   },
   "outputs": [],
   "source": [
    "#Examine CODEREVHRS, WORKWEEKHRS, & AGE Columns for Missing Values\n",
    "\n",
    "if dfBubble['CodeRevHrs'].isnull().sum():  #See if any Missing Values\n",
    "    meanCode = df['CodeRevHrs'].mean()\n",
    "    dfBubble['CodeRevHrs'].replace(np.nan, meanCode, inplace=True)\n",
    "\n",
    "if dfBubble['WorkWeekHrs'].isnull().sum():  #See if any Missing Values\n",
    "    meanWkHrs = df['WorkWeekHrs'].mean()\n",
    "    dfBubble['WorkWeekHrs'].replace(np.nan, meanWkHrs, inplace=True)\n",
    "\n",
    "if dfBubble['Age'].isnull().sum():  #See if any Missing Values\n",
    "    meanAge = dfBubble['Age'].mean()\n",
    "    dfBubble['Age'].replace(np.nan, meanAge, inplace=True)"
   ]
  },
  {
   "cell_type": "code",
   "execution_count": 26,
   "metadata": {},
   "outputs": [
    {
     "data": {
      "text/html": [
       "<div>\n",
       "<style scoped>\n",
       "    .dataframe tbody tr th:only-of-type {\n",
       "        vertical-align: middle;\n",
       "    }\n",
       "\n",
       "    .dataframe tbody tr th {\n",
       "        vertical-align: top;\n",
       "    }\n",
       "\n",
       "    .dataframe thead th {\n",
       "        text-align: right;\n",
       "    }\n",
       "</style>\n",
       "<table border=\"1\" class=\"dataframe\">\n",
       "  <thead>\n",
       "    <tr style=\"text-align: right;\">\n",
       "      <th></th>\n",
       "      <th>WorkWeekHrs</th>\n",
       "      <th>CodeRevHrs</th>\n",
       "      <th>Age</th>\n",
       "    </tr>\n",
       "  </thead>\n",
       "  <tbody>\n",
       "    <tr>\n",
       "      <th>count</th>\n",
       "      <td>11398.000000</td>\n",
       "      <td>11398.000000</td>\n",
       "      <td>11398.000000</td>\n",
       "    </tr>\n",
       "    <tr>\n",
       "      <th>mean</th>\n",
       "      <td>42.064606</td>\n",
       "      <td>4.781071</td>\n",
       "      <td>30.779318</td>\n",
       "    </tr>\n",
       "    <tr>\n",
       "      <th>std</th>\n",
       "      <td>24.540330</td>\n",
       "      <td>4.051929</td>\n",
       "      <td>7.299993</td>\n",
       "    </tr>\n",
       "    <tr>\n",
       "      <th>min</th>\n",
       "      <td>3.000000</td>\n",
       "      <td>0.000000</td>\n",
       "      <td>16.000000</td>\n",
       "    </tr>\n",
       "    <tr>\n",
       "      <th>25%</th>\n",
       "      <td>40.000000</td>\n",
       "      <td>2.000000</td>\n",
       "      <td>26.000000</td>\n",
       "    </tr>\n",
       "    <tr>\n",
       "      <th>50%</th>\n",
       "      <td>40.000000</td>\n",
       "      <td>4.781071</td>\n",
       "      <td>29.000000</td>\n",
       "    </tr>\n",
       "    <tr>\n",
       "      <th>75%</th>\n",
       "      <td>42.500000</td>\n",
       "      <td>5.000000</td>\n",
       "      <td>34.000000</td>\n",
       "    </tr>\n",
       "    <tr>\n",
       "      <th>max</th>\n",
       "      <td>1012.000000</td>\n",
       "      <td>99.000000</td>\n",
       "      <td>99.000000</td>\n",
       "    </tr>\n",
       "  </tbody>\n",
       "</table>\n",
       "</div>"
      ],
      "text/plain": [
       "        WorkWeekHrs    CodeRevHrs           Age\n",
       "count  11398.000000  11398.000000  11398.000000\n",
       "mean      42.064606      4.781071     30.779318\n",
       "std       24.540330      4.051929      7.299993\n",
       "min        3.000000      0.000000     16.000000\n",
       "25%       40.000000      2.000000     26.000000\n",
       "50%       40.000000      4.781071     29.000000\n",
       "75%       42.500000      5.000000     34.000000\n",
       "max     1012.000000     99.000000     99.000000"
      ]
     },
     "execution_count": 26,
     "metadata": {},
     "output_type": "execute_result"
    }
   ],
   "source": [
    "# Examine data distribution of dfBubble\n",
    "\n",
    "dfBubble.describe()"
   ]
  },
  {
   "cell_type": "code",
   "execution_count": 27,
   "metadata": {},
   "outputs": [],
   "source": [
    "# normalize WORKWEEKHRS & CODEREVHRS Data values\n",
    "\n",
    "NormWorkHrs = (dfBubble['WorkWeekHrs'] - dfBubble['WorkWeekHrs'].min()) / (dfBubble['WorkWeekHrs'].max() - dfBubble['WorkWeekHrs'].min())\n",
    "\n",
    "# normalize CodeRevHrs\n",
    "NormCodeHrs = (dfBubble['CodeRevHrs'] - dfBubble['CodeRevHrs'].min()) / (dfBubble['CodeRevHrs'].max() - dfBubble['CodeRevHrs'].min())\n"
   ]
  },
  {
   "cell_type": "code",
   "execution_count": 28,
   "metadata": {},
   "outputs": [
    {
     "data": {
      "text/plain": [
       "'\\n# WorkWeekHrs\\nax0 = dfBubble.plot(kind=\\'scatter\\',\\n                    x=\\'Age\\',\\n                    y=\\'WorkWeekHrs\\',\\n                    figsize=(18, 16),\\n                    alpha=0.5,  # transparency\\n                    color=\\'green\\',\\n                    s=NormWorkHrs * 800 + 2,  # pass in weights \\n                    xlim=(16, 98)\\n                    )\\n\\n# CodeRevHrs\\nax1 = dfBubble.plot(kind=\\'scatter\\',\\n                    x=\\'Age\\',\\n                    y=\\'CodeRevHrs\\',\\n                    alpha=0.5,\\n                    color=\"blue\",\\n                    s=NormCodeHrs * 800 + 2,\\n                    ax=ax0\\n                    )\\n\\nax0.set_ylabel(\\'Respondent Time (Hours)\\')\\nax0.set_title(\"Bubble Plot: WorkWeekHrs & CodeRevHrs sized by Age)\", size=14)\\nax0.legend([\\'WorkWeekHrs\\', \\'CodeRevhrs\\'], loc=\\'upper right\\', fontsize=\\'medium\\')\\n'"
      ]
     },
     "execution_count": 28,
     "metadata": {},
     "output_type": "execute_result"
    }
   ],
   "source": [
    "# Data Visualization - Lecturer Wk 4 - working Code \n",
    "\"\"\"\n",
    "# WorkWeekHrs\n",
    "ax0 = dfBubble.plot(kind='scatter',\n",
    "                    x='Age',\n",
    "                    y='WorkWeekHrs',\n",
    "                    figsize=(18, 16),\n",
    "                    alpha=0.5,  # transparency\n",
    "                    color='green',\n",
    "                    s=NormWorkHrs * 800 + 2,  # pass in weights \n",
    "                    xlim=(16, 98)\n",
    "                    )\n",
    "\n",
    "# CodeRevHrs\n",
    "ax1 = dfBubble.plot(kind='scatter',\n",
    "                    x='Age',\n",
    "                    y='CodeRevHrs',\n",
    "                    alpha=0.5,\n",
    "                    color=\"blue\",\n",
    "                    s=NormCodeHrs * 800 + 2,\n",
    "                    ax=ax0\n",
    "                    )\n",
    "\n",
    "ax0.set_ylabel('Respondent Time (Hours)')\n",
    "ax0.set_title(\"Bubble Plot: WorkWeekHrs & CodeRevHrs sized by Age)\", size=14)\n",
    "ax0.legend(['WorkWeekHrs', 'CodeRevhrs'], loc='upper right', fontsize='medium')\n",
    "\"\"\""
   ]
  },
  {
   "cell_type": "code",
   "execution_count": 29,
   "metadata": {},
   "outputs": [
    {
     "data": {
      "text/plain": [
       "Text(0.5, 1.0, 'Bubble Plot: WorkWeekHrs & CodeRevHrs sized by Age')"
      ]
     },
     "execution_count": 29,
     "metadata": {},
     "output_type": "execute_result"
    },
    {
     "data": {
      "image/png": "[encoded data removed]",
      "text/plain": [
       "<Figure size 1440x1440 with 1 Axes>"
      ]
     },
     "metadata": {
      "needs_background": "light"
     },
     "output_type": "display_data"
    }
   ],
   "source": [
    "# your code goes here - WORKING CODE; SIMILAR CHART TO ONE ABOVE\n",
    "#https://matplotlib.org/stable/gallery/shapes_and_collections/scatter.html\n",
    "\n",
    "\n",
    "\"\"\"\n",
    "qryBubble = pd.read_sql_query(\"SELECT WorkWeekHrs, CodeRevHrs, Age FROM master\" , conn)\n",
    "\n",
    "\"\"\"\n",
    "\n",
    "qryWorkWk = pd.read_sql_query(\"SELECT WorkWeekHrs FROM master\", conn)\n",
    "qryWorkCode = pd.read_sql_query(\"SELECT CodeRevHrs FROM master\", conn)\n",
    "qryAge = pd.read_sql_query(\"SELECT Age FROM master\", conn)\n",
    "\n",
    "\"\"\"\n",
    "WorkWeekHrs = pd.read_sql_query(qryWorkWkBubb, conn)\n",
    "CodeRevHrs = pd.read_sql_query(qryWorkCodeBubb, conn)\n",
    "Age = pd.read_sql_query(qryAgeBubb, conn)\n",
    "\"\"\"\n",
    "\n",
    "plt.figure(figsize=(20, 20), edgecolor='blue')\n",
    "plt.scatter(x = qryWorkWk, y = qryWorkCode, s = qryAge, alpha = 0.5)\n",
    "\n",
    "plt.xlabel('Work Week Hrs', size=16)\n",
    "plt.ylabel('Code Rev Hrs', size=16)\n",
    "plt.legend('Age')\n",
    "plt.title(\"Bubble Plot: WorkWeekHrs & CodeRevHrs sized by Age\", size=18)\n"
   ]
  },
  {
   "cell_type": "markdown",
   "metadata": {},
   "source": [
    "### Pie Charts\n"
   ]
  },
  {
   "cell_type": "markdown",
   "metadata": {},
   "source": [
    "Create a pie chart of the top 5 databases that respondents wish to learn next year. Label the pie chart with database names. Display percentages of each database on the pie chart.\n"
   ]
  },
  {
   "cell_type": "markdown",
   "metadata": {},
   "source": [
    "### Data Retrieval for Bar Chart: Current Top 5 Languages "
   ]
  },
  {
   "cell_type": "code",
   "execution_count": 33,
   "metadata": {},
   "outputs": [
    {
     "data": {
      "text/html": [
       "<div>\n",
       "<style scoped>\n",
       "    .dataframe tbody tr th:only-of-type {\n",
       "        vertical-align: middle;\n",
       "    }\n",
       "\n",
       "    .dataframe tbody tr th {\n",
       "        vertical-align: top;\n",
       "    }\n",
       "\n",
       "    .dataframe thead th {\n",
       "        text-align: right;\n",
       "    }\n",
       "</style>\n",
       "<table border=\"1\" class=\"dataframe\">\n",
       "  <thead>\n",
       "    <tr style=\"text-align: right;\">\n",
       "      <th></th>\n",
       "      <th>currLang</th>\n",
       "      <th>cntLang</th>\n",
       "    </tr>\n",
       "  </thead>\n",
       "  <tbody>\n",
       "    <tr>\n",
       "      <th>0</th>\n",
       "      <td>JavaScript</td>\n",
       "      <td>8687</td>\n",
       "    </tr>\n",
       "    <tr>\n",
       "      <th>1</th>\n",
       "      <td>HTML/CSS</td>\n",
       "      <td>7830</td>\n",
       "    </tr>\n",
       "    <tr>\n",
       "      <th>2</th>\n",
       "      <td>SQL</td>\n",
       "      <td>7106</td>\n",
       "    </tr>\n",
       "    <tr>\n",
       "      <th>3</th>\n",
       "      <td>Bash/Shell/PowerShell</td>\n",
       "      <td>4642</td>\n",
       "    </tr>\n",
       "    <tr>\n",
       "      <th>4</th>\n",
       "      <td>Python</td>\n",
       "      <td>4542</td>\n",
       "    </tr>\n",
       "  </tbody>\n",
       "</table>\n",
       "</div>"
      ],
      "text/plain": [
       "                currLang  cntLang\n",
       "0             JavaScript     8687\n",
       "1               HTML/CSS     7830\n",
       "2                    SQL     7106\n",
       "3  Bash/Shell/PowerShell     4642\n",
       "4                 Python     4542"
      ]
     },
     "execution_count": 33,
     "metadata": {},
     "output_type": "execute_result"
    }
   ],
   "source": [
    "table_Name = 'LanguageWorkedWith'  # the table you wish to describe\n",
    "\n",
    "QUERY = \"\"\"\n",
    "SELECT sql FROM sqlite_master\n",
    "WHERE name= '{}'\n",
    "\"\"\".format(table_Name)\n",
    "\n",
    "dfLang = pd.read_sql_query(QUERY, conn)\n",
    "#print(dfLang.iat[0,0])\n",
    "\n",
    "QUERY2 = \"\"\"\n",
    "SELECT LanguageWorkedWith as currLang, count(LanguageWorkedWith) as cntLang FROM LanguageWorkedWith\n",
    "group by currLang\n",
    "order by cntLang DESC\n",
    "LIMIT 5\n",
    "\"\"\"\n",
    "\n",
    "dfCurrLang = pd.read_sql_query(QUERY2, conn)\n",
    "dfCurrLang"
   ]
  },
  {
   "cell_type": "code",
   "execution_count": 34,
   "metadata": {},
   "outputs": [
    {
     "data": {
      "text/html": [
       "<div>\n",
       "<style scoped>\n",
       "    .dataframe tbody tr th:only-of-type {\n",
       "        vertical-align: middle;\n",
       "    }\n",
       "\n",
       "    .dataframe tbody tr th {\n",
       "        vertical-align: top;\n",
       "    }\n",
       "\n",
       "    .dataframe thead th {\n",
       "        text-align: right;\n",
       "    }\n",
       "</style>\n",
       "<table border=\"1\" class=\"dataframe\">\n",
       "  <thead>\n",
       "    <tr style=\"text-align: right;\">\n",
       "      <th></th>\n",
       "      <th>currLang</th>\n",
       "      <th>cntLang</th>\n",
       "    </tr>\n",
       "  </thead>\n",
       "  <tbody>\n",
       "    <tr>\n",
       "      <th>0</th>\n",
       "      <td>JavaScript</td>\n",
       "      <td>8687</td>\n",
       "    </tr>\n",
       "    <tr>\n",
       "      <th>1</th>\n",
       "      <td>HTML/CSS</td>\n",
       "      <td>7830</td>\n",
       "    </tr>\n",
       "    <tr>\n",
       "      <th>2</th>\n",
       "      <td>SQL</td>\n",
       "      <td>7106</td>\n",
       "    </tr>\n",
       "    <tr>\n",
       "      <th>3</th>\n",
       "      <td>Bash/Shell/PowerShell</td>\n",
       "      <td>4642</td>\n",
       "    </tr>\n",
       "    <tr>\n",
       "      <th>4</th>\n",
       "      <td>Python</td>\n",
       "      <td>4542</td>\n",
       "    </tr>\n",
       "    <tr>\n",
       "      <th>5</th>\n",
       "      <td>Java</td>\n",
       "      <td>4506</td>\n",
       "    </tr>\n",
       "    <tr>\n",
       "      <th>6</th>\n",
       "      <td>C#</td>\n",
       "      <td>4288</td>\n",
       "    </tr>\n",
       "    <tr>\n",
       "      <th>7</th>\n",
       "      <td>TypeScript</td>\n",
       "      <td>3232</td>\n",
       "    </tr>\n",
       "    <tr>\n",
       "      <th>8</th>\n",
       "      <td>PHP</td>\n",
       "      <td>2913</td>\n",
       "    </tr>\n",
       "    <tr>\n",
       "      <th>9</th>\n",
       "      <td>C++</td>\n",
       "      <td>1946</td>\n",
       "    </tr>\n",
       "    <tr>\n",
       "      <th>10</th>\n",
       "      <td>C</td>\n",
       "      <td>1578</td>\n",
       "    </tr>\n",
       "    <tr>\n",
       "      <th>11</th>\n",
       "      <td>Ruby</td>\n",
       "      <td>1149</td>\n",
       "    </tr>\n",
       "    <tr>\n",
       "      <th>12</th>\n",
       "      <td>Go</td>\n",
       "      <td>1114</td>\n",
       "    </tr>\n",
       "    <tr>\n",
       "      <th>13</th>\n",
       "      <td>Other(s):</td>\n",
       "      <td>840</td>\n",
       "    </tr>\n",
       "    <tr>\n",
       "      <th>14</th>\n",
       "      <td>Kotlin</td>\n",
       "      <td>751</td>\n",
       "    </tr>\n",
       "    <tr>\n",
       "      <th>15</th>\n",
       "      <td>Swift</td>\n",
       "      <td>707</td>\n",
       "    </tr>\n",
       "    <tr>\n",
       "      <th>16</th>\n",
       "      <td>VBA</td>\n",
       "      <td>628</td>\n",
       "    </tr>\n",
       "    <tr>\n",
       "      <th>17</th>\n",
       "      <td>R</td>\n",
       "      <td>585</td>\n",
       "    </tr>\n",
       "    <tr>\n",
       "      <th>18</th>\n",
       "      <td>Objective-C</td>\n",
       "      <td>518</td>\n",
       "    </tr>\n",
       "    <tr>\n",
       "      <th>19</th>\n",
       "      <td>Scala</td>\n",
       "      <td>492</td>\n",
       "    </tr>\n",
       "    <tr>\n",
       "      <th>20</th>\n",
       "      <td>Assembly</td>\n",
       "      <td>437</td>\n",
       "    </tr>\n",
       "    <tr>\n",
       "      <th>21</th>\n",
       "      <td>Rust</td>\n",
       "      <td>324</td>\n",
       "    </tr>\n",
       "    <tr>\n",
       "      <th>22</th>\n",
       "      <td>Dart</td>\n",
       "      <td>237</td>\n",
       "    </tr>\n",
       "    <tr>\n",
       "      <th>23</th>\n",
       "      <td>Elixir</td>\n",
       "      <td>187</td>\n",
       "    </tr>\n",
       "    <tr>\n",
       "      <th>24</th>\n",
       "      <td>Clojure</td>\n",
       "      <td>164</td>\n",
       "    </tr>\n",
       "    <tr>\n",
       "      <th>25</th>\n",
       "      <td>F#</td>\n",
       "      <td>158</td>\n",
       "    </tr>\n",
       "    <tr>\n",
       "      <th>26</th>\n",
       "      <td>WebAssembly</td>\n",
       "      <td>133</td>\n",
       "    </tr>\n",
       "    <tr>\n",
       "      <th>27</th>\n",
       "      <td>Erlang</td>\n",
       "      <td>98</td>\n",
       "    </tr>\n",
       "  </tbody>\n",
       "</table>\n",
       "</div>"
      ],
      "text/plain": [
       "                 currLang  cntLang\n",
       "0              JavaScript     8687\n",
       "1                HTML/CSS     7830\n",
       "2                     SQL     7106\n",
       "3   Bash/Shell/PowerShell     4642\n",
       "4                  Python     4542\n",
       "5                    Java     4506\n",
       "6                      C#     4288\n",
       "7              TypeScript     3232\n",
       "8                     PHP     2913\n",
       "9                     C++     1946\n",
       "10                      C     1578\n",
       "11                   Ruby     1149\n",
       "12                     Go     1114\n",
       "13              Other(s):      840\n",
       "14                 Kotlin      751\n",
       "15                  Swift      707\n",
       "16                    VBA      628\n",
       "17                      R      585\n",
       "18            Objective-C      518\n",
       "19                  Scala      492\n",
       "20               Assembly      437\n",
       "21                   Rust      324\n",
       "22                   Dart      237\n",
       "23                 Elixir      187\n",
       "24                Clojure      164\n",
       "25                     F#      158\n",
       "26            WebAssembly      133\n",
       "27                 Erlang       98"
      ]
     },
     "execution_count": 34,
     "metadata": {},
     "output_type": "execute_result"
    }
   ],
   "source": [
    "table_Name = 'LanguageWorkedWith'  # the table you wish to describe\n",
    "\n",
    "QUERY = \"\"\"\n",
    "SELECT sql FROM sqlite_master\n",
    "WHERE name= '{}'\n",
    "\"\"\".format(table_Name)\n",
    "\n",
    "dfLang = pd.read_sql_query(QUERY, conn)\n",
    "#print(dfLang.iat[0,0])\n",
    "\n",
    "QUERY3 = \"\"\"\n",
    "SELECT LanguageWorkedWith as currLang, count(LanguageWorkedWith) as cntLang FROM LanguageWorkedWith\n",
    "group by currLang\n",
    "order by cntLang DESC\n",
    "\"\"\"\n",
    "\n",
    "dfCurrLangAll = pd.read_sql_query(QUERY3, conn)\n",
    "dfCurrLangAll"
   ]
  },
  {
   "cell_type": "code",
   "execution_count": 35,
   "metadata": {},
   "outputs": [
    {
     "data": {
      "text/html": [
       "<div>\n",
       "<style scoped>\n",
       "    .dataframe tbody tr th:only-of-type {\n",
       "        vertical-align: middle;\n",
       "    }\n",
       "\n",
       "    .dataframe tbody tr th {\n",
       "        vertical-align: top;\n",
       "    }\n",
       "\n",
       "    .dataframe thead th {\n",
       "        text-align: right;\n",
       "    }\n",
       "</style>\n",
       "<table border=\"1\" class=\"dataframe\">\n",
       "  <thead>\n",
       "    <tr style=\"text-align: right;\">\n",
       "      <th></th>\n",
       "      <th>futLang</th>\n",
       "      <th>cntLang</th>\n",
       "    </tr>\n",
       "  </thead>\n",
       "  <tbody>\n",
       "    <tr>\n",
       "      <th>0</th>\n",
       "      <td>JavaScript</td>\n",
       "      <td>6630</td>\n",
       "    </tr>\n",
       "    <tr>\n",
       "      <th>1</th>\n",
       "      <td>HTML/CSS</td>\n",
       "      <td>5328</td>\n",
       "    </tr>\n",
       "    <tr>\n",
       "      <th>2</th>\n",
       "      <td>Python</td>\n",
       "      <td>5239</td>\n",
       "    </tr>\n",
       "    <tr>\n",
       "      <th>3</th>\n",
       "      <td>SQL</td>\n",
       "      <td>5012</td>\n",
       "    </tr>\n",
       "    <tr>\n",
       "      <th>4</th>\n",
       "      <td>TypeScript</td>\n",
       "      <td>4088</td>\n",
       "    </tr>\n",
       "  </tbody>\n",
       "</table>\n",
       "</div>"
      ],
      "text/plain": [
       "      futLang  cntLang\n",
       "0  JavaScript     6630\n",
       "1    HTML/CSS     5328\n",
       "2      Python     5239\n",
       "3         SQL     5012\n",
       "4  TypeScript     4088"
      ]
     },
     "execution_count": 35,
     "metadata": {},
     "output_type": "execute_result"
    }
   ],
   "source": [
    "table_Name = 'LanguageDesireNextYear'  # the table you wish to describe\n",
    "\n",
    "QUERY = \"\"\"\n",
    "SELECT sql FROM sqlite_master\n",
    "WHERE name= '{}'\n",
    "\"\"\".format(table_Name)\n",
    "\n",
    "dfLang = pd.read_sql_query(QUERY, conn)\n",
    "#print(dfLang.iat[0,0])\n",
    "\n",
    "QUERY2 = \"\"\"\n",
    "SELECT LanguageDesireNextYear as futLang, count(LanguageDesireNextYear) as cntLang FROM LanguageDesireNextYear\n",
    "group by futLang\n",
    "order by cntLang DESC\n",
    "LIMIT 5\n",
    "\"\"\"\n",
    "\n",
    "dfFutLang = pd.read_sql_query(QUERY2, conn)\n",
    "dfFutLang"
   ]
  },
  {
   "cell_type": "code",
   "execution_count": 36,
   "metadata": {},
   "outputs": [
    {
     "data": {
      "text/html": [
       "<div>\n",
       "<style scoped>\n",
       "    .dataframe tbody tr th:only-of-type {\n",
       "        vertical-align: middle;\n",
       "    }\n",
       "\n",
       "    .dataframe tbody tr th {\n",
       "        vertical-align: top;\n",
       "    }\n",
       "\n",
       "    .dataframe thead th {\n",
       "        text-align: right;\n",
       "    }\n",
       "</style>\n",
       "<table border=\"1\" class=\"dataframe\">\n",
       "  <thead>\n",
       "    <tr style=\"text-align: right;\">\n",
       "      <th></th>\n",
       "      <th>futLang</th>\n",
       "      <th>cntLang</th>\n",
       "    </tr>\n",
       "  </thead>\n",
       "  <tbody>\n",
       "    <tr>\n",
       "      <th>0</th>\n",
       "      <td>JavaScript</td>\n",
       "      <td>6630</td>\n",
       "    </tr>\n",
       "    <tr>\n",
       "      <th>1</th>\n",
       "      <td>HTML/CSS</td>\n",
       "      <td>5328</td>\n",
       "    </tr>\n",
       "    <tr>\n",
       "      <th>2</th>\n",
       "      <td>Python</td>\n",
       "      <td>5239</td>\n",
       "    </tr>\n",
       "    <tr>\n",
       "      <th>3</th>\n",
       "      <td>SQL</td>\n",
       "      <td>5012</td>\n",
       "    </tr>\n",
       "    <tr>\n",
       "      <th>4</th>\n",
       "      <td>TypeScript</td>\n",
       "      <td>4088</td>\n",
       "    </tr>\n",
       "    <tr>\n",
       "      <th>5</th>\n",
       "      <td>C#</td>\n",
       "      <td>3591</td>\n",
       "    </tr>\n",
       "    <tr>\n",
       "      <th>6</th>\n",
       "      <td>Bash/Shell/PowerShell</td>\n",
       "      <td>3097</td>\n",
       "    </tr>\n",
       "    <tr>\n",
       "      <th>7</th>\n",
       "      <td>Java</td>\n",
       "      <td>2953</td>\n",
       "    </tr>\n",
       "    <tr>\n",
       "      <th>8</th>\n",
       "      <td>Go</td>\n",
       "      <td>2759</td>\n",
       "    </tr>\n",
       "    <tr>\n",
       "      <th>9</th>\n",
       "      <td>Kotlin</td>\n",
       "      <td>1890</td>\n",
       "    </tr>\n",
       "    <tr>\n",
       "      <th>10</th>\n",
       "      <td>C++</td>\n",
       "      <td>1633</td>\n",
       "    </tr>\n",
       "    <tr>\n",
       "      <th>11</th>\n",
       "      <td>Rust</td>\n",
       "      <td>1520</td>\n",
       "    </tr>\n",
       "    <tr>\n",
       "      <th>12</th>\n",
       "      <td>PHP</td>\n",
       "      <td>1457</td>\n",
       "    </tr>\n",
       "    <tr>\n",
       "      <th>13</th>\n",
       "      <td>WebAssembly</td>\n",
       "      <td>1397</td>\n",
       "    </tr>\n",
       "    <tr>\n",
       "      <th>14</th>\n",
       "      <td>Swift</td>\n",
       "      <td>1179</td>\n",
       "    </tr>\n",
       "    <tr>\n",
       "      <th>15</th>\n",
       "      <td>Ruby</td>\n",
       "      <td>1029</td>\n",
       "    </tr>\n",
       "    <tr>\n",
       "      <th>16</th>\n",
       "      <td>C</td>\n",
       "      <td>1028</td>\n",
       "    </tr>\n",
       "    <tr>\n",
       "      <th>17</th>\n",
       "      <td>Scala</td>\n",
       "      <td>879</td>\n",
       "    </tr>\n",
       "    <tr>\n",
       "      <th>18</th>\n",
       "      <td>R</td>\n",
       "      <td>850</td>\n",
       "    </tr>\n",
       "    <tr>\n",
       "      <th>19</th>\n",
       "      <td>Other(s):</td>\n",
       "      <td>836</td>\n",
       "    </tr>\n",
       "    <tr>\n",
       "      <th>20</th>\n",
       "      <td>F#</td>\n",
       "      <td>621</td>\n",
       "    </tr>\n",
       "    <tr>\n",
       "      <th>21</th>\n",
       "      <td>Elixir</td>\n",
       "      <td>620</td>\n",
       "    </tr>\n",
       "    <tr>\n",
       "      <th>22</th>\n",
       "      <td>Dart</td>\n",
       "      <td>610</td>\n",
       "    </tr>\n",
       "    <tr>\n",
       "      <th>23</th>\n",
       "      <td>Clojure</td>\n",
       "      <td>413</td>\n",
       "    </tr>\n",
       "    <tr>\n",
       "      <th>24</th>\n",
       "      <td>Assembly</td>\n",
       "      <td>336</td>\n",
       "    </tr>\n",
       "    <tr>\n",
       "      <th>25</th>\n",
       "      <td>Objective-C</td>\n",
       "      <td>310</td>\n",
       "    </tr>\n",
       "    <tr>\n",
       "      <th>26</th>\n",
       "      <td>Erlang</td>\n",
       "      <td>310</td>\n",
       "    </tr>\n",
       "    <tr>\n",
       "      <th>27</th>\n",
       "      <td>VBA</td>\n",
       "      <td>149</td>\n",
       "    </tr>\n",
       "  </tbody>\n",
       "</table>\n",
       "</div>"
      ],
      "text/plain": [
       "                  futLang  cntLang\n",
       "0              JavaScript     6630\n",
       "1                HTML/CSS     5328\n",
       "2                  Python     5239\n",
       "3                     SQL     5012\n",
       "4              TypeScript     4088\n",
       "5                      C#     3591\n",
       "6   Bash/Shell/PowerShell     3097\n",
       "7                    Java     2953\n",
       "8                      Go     2759\n",
       "9                  Kotlin     1890\n",
       "10                    C++     1633\n",
       "11                   Rust     1520\n",
       "12                    PHP     1457\n",
       "13            WebAssembly     1397\n",
       "14                  Swift     1179\n",
       "15                   Ruby     1029\n",
       "16                      C     1028\n",
       "17                  Scala      879\n",
       "18                      R      850\n",
       "19              Other(s):      836\n",
       "20                     F#      621\n",
       "21                 Elixir      620\n",
       "22                   Dart      610\n",
       "23                Clojure      413\n",
       "24               Assembly      336\n",
       "25            Objective-C      310\n",
       "26                 Erlang      310\n",
       "27                    VBA      149"
      ]
     },
     "execution_count": 36,
     "metadata": {},
     "output_type": "execute_result"
    }
   ],
   "source": [
    "table_Name = 'LanguageDesireNextYear'  # the table you wish to describe\n",
    "\n",
    "QUERY = \"\"\"\n",
    "SELECT sql FROM sqlite_master\n",
    "WHERE name= '{}'\n",
    "\"\"\".format(table_Name)\n",
    "\n",
    "dfLang = pd.read_sql_query(QUERY, conn)\n",
    "#print(dfLang.iat[0,0])\n",
    "\n",
    "QUERY2 = \"\"\"\n",
    "SELECT LanguageDesireNextYear as futLang, count(LanguageDesireNextYear) as cntLang FROM LanguageDesireNextYear\n",
    "group by futLang\n",
    "order by cntLang DESC\n",
    "\"\"\"\n",
    "\n",
    "dfFutLangAll = pd.read_sql_query(QUERY2, conn)\n",
    "dfFutLangAll"
   ]
  },
  {
   "cell_type": "code",
   "execution_count": 177,
   "metadata": {},
   "outputs": [],
   "source": [
    "#SELECT DatabaseWorkedWith from DatabaseWorkedWith"
   ]
  },
  {
   "cell_type": "code",
   "execution_count": 37,
   "metadata": {},
   "outputs": [
    {
     "data": {
      "text/html": [
       "<div>\n",
       "<style scoped>\n",
       "    .dataframe tbody tr th:only-of-type {\n",
       "        vertical-align: middle;\n",
       "    }\n",
       "\n",
       "    .dataframe tbody tr th {\n",
       "        vertical-align: top;\n",
       "    }\n",
       "\n",
       "    .dataframe thead th {\n",
       "        text-align: right;\n",
       "    }\n",
       "</style>\n",
       "<table border=\"1\" class=\"dataframe\">\n",
       "  <thead>\n",
       "    <tr style=\"text-align: right;\">\n",
       "      <th></th>\n",
       "      <th>currDB</th>\n",
       "      <th>cntDB</th>\n",
       "    </tr>\n",
       "  </thead>\n",
       "  <tbody>\n",
       "    <tr>\n",
       "      <th>0</th>\n",
       "      <td>MySQL</td>\n",
       "      <td>5469</td>\n",
       "    </tr>\n",
       "    <tr>\n",
       "      <th>1</th>\n",
       "      <td>Microsoft SQL Server</td>\n",
       "      <td>4110</td>\n",
       "    </tr>\n",
       "    <tr>\n",
       "      <th>2</th>\n",
       "      <td>PostgreSQL</td>\n",
       "      <td>4097</td>\n",
       "    </tr>\n",
       "    <tr>\n",
       "      <th>3</th>\n",
       "      <td>SQLite</td>\n",
       "      <td>3248</td>\n",
       "    </tr>\n",
       "    <tr>\n",
       "      <th>4</th>\n",
       "      <td>MongoDB</td>\n",
       "      <td>3016</td>\n",
       "    </tr>\n",
       "  </tbody>\n",
       "</table>\n",
       "</div>"
      ],
      "text/plain": [
       "                 currDB  cntDB\n",
       "0                 MySQL   5469\n",
       "1  Microsoft SQL Server   4110\n",
       "2            PostgreSQL   4097\n",
       "3                SQLite   3248\n",
       "4               MongoDB   3016"
      ]
     },
     "execution_count": 37,
     "metadata": {},
     "output_type": "execute_result"
    }
   ],
   "source": [
    "QUERY=\"\"\"\n",
    "SELECT distinct(DatabaseWorkedWith) as currDB, count(DatabaseWorkedWith) as cntDB \\\n",
    "FROM DatabaseWorkedWith \\\n",
    "group by currDB \\\n",
    "order by cntDB DESC\n",
    "LIMIT 5\n",
    "\"\"\"\n",
    "\n",
    "dfCurrDB = pd.read_sql_query(QUERY,conn)\n",
    "dfCurrDB"
   ]
  },
  {
   "cell_type": "code",
   "execution_count": 38,
   "metadata": {},
   "outputs": [
    {
     "data": {
      "text/html": [
       "<div>\n",
       "<style scoped>\n",
       "    .dataframe tbody tr th:only-of-type {\n",
       "        vertical-align: middle;\n",
       "    }\n",
       "\n",
       "    .dataframe tbody tr th {\n",
       "        vertical-align: top;\n",
       "    }\n",
       "\n",
       "    .dataframe thead th {\n",
       "        text-align: right;\n",
       "    }\n",
       "</style>\n",
       "<table border=\"1\" class=\"dataframe\">\n",
       "  <thead>\n",
       "    <tr style=\"text-align: right;\">\n",
       "      <th></th>\n",
       "      <th>currDB</th>\n",
       "      <th>cntDB</th>\n",
       "    </tr>\n",
       "  </thead>\n",
       "  <tbody>\n",
       "    <tr>\n",
       "      <th>0</th>\n",
       "      <td>MySQL</td>\n",
       "      <td>5469</td>\n",
       "    </tr>\n",
       "    <tr>\n",
       "      <th>1</th>\n",
       "      <td>Microsoft SQL Server</td>\n",
       "      <td>4110</td>\n",
       "    </tr>\n",
       "    <tr>\n",
       "      <th>2</th>\n",
       "      <td>PostgreSQL</td>\n",
       "      <td>4097</td>\n",
       "    </tr>\n",
       "    <tr>\n",
       "      <th>3</th>\n",
       "      <td>SQLite</td>\n",
       "      <td>3248</td>\n",
       "    </tr>\n",
       "    <tr>\n",
       "      <th>4</th>\n",
       "      <td>MongoDB</td>\n",
       "      <td>3016</td>\n",
       "    </tr>\n",
       "    <tr>\n",
       "      <th>5</th>\n",
       "      <td>Redis</td>\n",
       "      <td>2508</td>\n",
       "    </tr>\n",
       "    <tr>\n",
       "      <th>6</th>\n",
       "      <td>Elasticsearch</td>\n",
       "      <td>1954</td>\n",
       "    </tr>\n",
       "    <tr>\n",
       "      <th>7</th>\n",
       "      <td>Oracle</td>\n",
       "      <td>1744</td>\n",
       "    </tr>\n",
       "    <tr>\n",
       "      <th>8</th>\n",
       "      <td>MariaDB</td>\n",
       "      <td>1709</td>\n",
       "    </tr>\n",
       "    <tr>\n",
       "      <th>9</th>\n",
       "      <td>Firebase</td>\n",
       "      <td>1314</td>\n",
       "    </tr>\n",
       "    <tr>\n",
       "      <th>10</th>\n",
       "      <td>DynamoDB</td>\n",
       "      <td>831</td>\n",
       "    </tr>\n",
       "    <tr>\n",
       "      <th>11</th>\n",
       "      <td>Other(s):</td>\n",
       "      <td>728</td>\n",
       "    </tr>\n",
       "    <tr>\n",
       "      <th>12</th>\n",
       "      <td>Cassandra</td>\n",
       "      <td>397</td>\n",
       "    </tr>\n",
       "    <tr>\n",
       "      <th>13</th>\n",
       "      <td>Couchbase</td>\n",
       "      <td>250</td>\n",
       "    </tr>\n",
       "  </tbody>\n",
       "</table>\n",
       "</div>"
      ],
      "text/plain": [
       "                  currDB  cntDB\n",
       "0                  MySQL   5469\n",
       "1   Microsoft SQL Server   4110\n",
       "2             PostgreSQL   4097\n",
       "3                 SQLite   3248\n",
       "4                MongoDB   3016\n",
       "5                  Redis   2508\n",
       "6          Elasticsearch   1954\n",
       "7                 Oracle   1744\n",
       "8                MariaDB   1709\n",
       "9               Firebase   1314\n",
       "10              DynamoDB    831\n",
       "11             Other(s):    728\n",
       "12             Cassandra    397\n",
       "13             Couchbase    250"
      ]
     },
     "execution_count": 38,
     "metadata": {},
     "output_type": "execute_result"
    }
   ],
   "source": [
    "QUERY=\"\"\"\n",
    "SELECT distinct(DatabaseWorkedWith) as currDB, count(DatabaseWorkedWith) as cntDB \\\n",
    "FROM DatabaseWorkedWith \\\n",
    "group by currDB \\\n",
    "order by cntDB DESC\n",
    "\"\"\"\n",
    "\n",
    "dfCurrDBAll = pd.read_sql_query(QUERY,conn)\n",
    "dfCurrDBAll"
   ]
  },
  {
   "cell_type": "code",
   "execution_count": 182,
   "metadata": {},
   "outputs": [
    {
     "name": "stdout",
     "output_type": "stream",
     "text": [
      "CREATE TABLE \"DatabaseDesireNextYear\" (\n",
      "\"Respondent\" INTEGER,\n",
      "  \"DatabaseDesireNextYear\" TEXT\n",
      ")\n"
     ]
    }
   ],
   "source": [
    "table_Name = 'DatabaseDesireNextYear'  # the table you wish to describe\n",
    "\n",
    "QUERY = \"\"\"\n",
    "SELECT sql FROM sqlite_master\n",
    "WHERE name= '{}'\n",
    "\"\"\".format(table_Name)\n",
    "\n",
    "dfFutDB = pd.read_sql_query(QUERY, conn)\n",
    "print(dfFutDB.iat[0,0])"
   ]
  },
  {
   "cell_type": "code",
   "execution_count": 39,
   "metadata": {},
   "outputs": [
    {
     "data": {
      "text/html": [
       "<div>\n",
       "<style scoped>\n",
       "    .dataframe tbody tr th:only-of-type {\n",
       "        vertical-align: middle;\n",
       "    }\n",
       "\n",
       "    .dataframe tbody tr th {\n",
       "        vertical-align: top;\n",
       "    }\n",
       "\n",
       "    .dataframe thead th {\n",
       "        text-align: right;\n",
       "    }\n",
       "</style>\n",
       "<table border=\"1\" class=\"dataframe\">\n",
       "  <thead>\n",
       "    <tr style=\"text-align: right;\">\n",
       "      <th></th>\n",
       "      <th>futDB</th>\n",
       "      <th>cntDB</th>\n",
       "    </tr>\n",
       "  </thead>\n",
       "  <tbody>\n",
       "    <tr>\n",
       "      <th>0</th>\n",
       "      <td>PostgreSQL</td>\n",
       "      <td>4328</td>\n",
       "    </tr>\n",
       "    <tr>\n",
       "      <th>1</th>\n",
       "      <td>MongoDB</td>\n",
       "      <td>3649</td>\n",
       "    </tr>\n",
       "    <tr>\n",
       "      <th>2</th>\n",
       "      <td>Redis</td>\n",
       "      <td>3331</td>\n",
       "    </tr>\n",
       "    <tr>\n",
       "      <th>3</th>\n",
       "      <td>MySQL</td>\n",
       "      <td>3281</td>\n",
       "    </tr>\n",
       "    <tr>\n",
       "      <th>4</th>\n",
       "      <td>Elasticsearch</td>\n",
       "      <td>2856</td>\n",
       "    </tr>\n",
       "  </tbody>\n",
       "</table>\n",
       "</div>"
      ],
      "text/plain": [
       "           futDB  cntDB\n",
       "0     PostgreSQL   4328\n",
       "1        MongoDB   3649\n",
       "2          Redis   3331\n",
       "3          MySQL   3281\n",
       "4  Elasticsearch   2856"
      ]
     },
     "execution_count": 39,
     "metadata": {},
     "output_type": "execute_result"
    }
   ],
   "source": [
    "QUERY = \"\"\" \n",
    "SELECT DatabaseDesireNextYear as futDB, count(DatabaseDesireNextYear) as cntDB from DatabaseDesireNextYear\n",
    "group by futDB\n",
    "order by cntDB DESC\n",
    "LIMIT 5\n",
    "\"\"\"\n",
    "\n",
    "dfFutDB = pd.read_sql_query(QUERY, conn)\n",
    "dfFutDB\n"
   ]
  },
  {
   "cell_type": "code",
   "execution_count": 186,
   "metadata": {},
   "outputs": [],
   "source": [
    "#df['DatabaseWorkedWith'].value_counts()\n",
    "#dfDB.reset_index('DatabaseWorkedWith', inplace=True, drop=True)\n",
    "\n",
    "dfFutDB.set_index('DatabaseDesireNextYear')\n",
    "labels = dfFutDB['DatabaseDesireNextYear']     #Extract labels\n",
    "data = dfFutDB['cntDB']"
   ]
  },
  {
   "cell_type": "code",
   "execution_count": 187,
   "metadata": {},
   "outputs": [
    {
     "data": {
      "image/png": "[encoded data removed]",
      "text/plain": [
       "<Figure size 864x648 with 1 Axes>"
      ]
     },
     "metadata": {},
     "output_type": "display_data"
    }
   ],
   "source": [
    "# your code goes here\n",
    "#https://www.geeksforgeeks.org/plot-a-pie-chart-in-python-using-matplotlib/\n",
    "\n",
    "# Creating dataset\n",
    "labels = dfFutDB['DatabaseDesireNextYear']\n",
    "data = dfFutDB['cntDB']\n",
    " \n",
    "# Creating explode data\n",
    "explode = (0.1, 0.0, 0.0, 0.0, 0.05)   #Must be same length as x (data)\n",
    " \n",
    "# Creating color parameters\n",
    "colors = ( \"orange\", \"cyan\", \"brown\", \"grey\", \"indigo\")\n",
    " \n",
    "# Wedge properties\n",
    "wp = { 'linewidth' : 1.3, 'edgecolor' : \"green\" }\n",
    " \n",
    "# Creating autocpt arguments\n",
    "def func(pct, allvalues):\n",
    "    absolute = int(pct / 100.*np.sum(allvalues))\n",
    "    return \"{:.1f}%\\n({:d})\".format(pct, absolute)\n",
    " \n",
    "# Creating plot\n",
    "fig, ax = plt.subplots(figsize =(12, 9))\n",
    "wedges, texts, autotexts = ax.pie(data,\n",
    "                                  autopct = lambda pct: func(pct, data),\n",
    "                                  explode = explode,\n",
    "                                  labels = labels,  \n",
    "                                  shadow = True,\n",
    "                                  colors = colors,\n",
    "                                  startangle = 90,\n",
    "                                  wedgeprops = wp,\n",
    "                                  textprops = dict(color=\"red\"))\n",
    " \n",
    "# Adding legend\n",
    "ax.legend(wedges, labels,\n",
    "          title =\"Top DBs\",\n",
    "          loc =\"center left\",\n",
    "          bbox_to_anchor =(1.3, 0, 0.5, 1))\n",
    "\n",
    "plt.setp(autotexts, size = 10, weight =\"bold\")\n",
    "ax.set_title(\"Pie Chart - Top 5 Desired Future Databases\")\n",
    " \n",
    "# show plot\n",
    "plt.show()\n"
   ]
  },
  {
   "cell_type": "markdown",
   "metadata": {},
   "source": [
    "### Query to get ALL Values from DatabaseDesireNext Year for Analysis Writeup"
   ]
  },
  {
   "cell_type": "code",
   "execution_count": 40,
   "metadata": {},
   "outputs": [
    {
     "data": {
      "text/html": [
       "<div>\n",
       "<style scoped>\n",
       "    .dataframe tbody tr th:only-of-type {\n",
       "        vertical-align: middle;\n",
       "    }\n",
       "\n",
       "    .dataframe tbody tr th {\n",
       "        vertical-align: top;\n",
       "    }\n",
       "\n",
       "    .dataframe thead th {\n",
       "        text-align: right;\n",
       "    }\n",
       "</style>\n",
       "<table border=\"1\" class=\"dataframe\">\n",
       "  <thead>\n",
       "    <tr style=\"text-align: right;\">\n",
       "      <th></th>\n",
       "      <th>futDB</th>\n",
       "      <th>cntDB</th>\n",
       "    </tr>\n",
       "  </thead>\n",
       "  <tbody>\n",
       "    <tr>\n",
       "      <th>0</th>\n",
       "      <td>PostgreSQL</td>\n",
       "      <td>4328</td>\n",
       "    </tr>\n",
       "    <tr>\n",
       "      <th>1</th>\n",
       "      <td>MongoDB</td>\n",
       "      <td>3649</td>\n",
       "    </tr>\n",
       "    <tr>\n",
       "      <th>2</th>\n",
       "      <td>Redis</td>\n",
       "      <td>3331</td>\n",
       "    </tr>\n",
       "    <tr>\n",
       "      <th>3</th>\n",
       "      <td>MySQL</td>\n",
       "      <td>3281</td>\n",
       "    </tr>\n",
       "    <tr>\n",
       "      <th>4</th>\n",
       "      <td>Elasticsearch</td>\n",
       "      <td>2856</td>\n",
       "    </tr>\n",
       "    <tr>\n",
       "      <th>5</th>\n",
       "      <td>Microsoft SQL Server</td>\n",
       "      <td>2706</td>\n",
       "    </tr>\n",
       "    <tr>\n",
       "      <th>6</th>\n",
       "      <td>SQLite</td>\n",
       "      <td>2437</td>\n",
       "    </tr>\n",
       "    <tr>\n",
       "      <th>7</th>\n",
       "      <td>Firebase</td>\n",
       "      <td>1650</td>\n",
       "    </tr>\n",
       "    <tr>\n",
       "      <th>8</th>\n",
       "      <td>MariaDB</td>\n",
       "      <td>1385</td>\n",
       "    </tr>\n",
       "    <tr>\n",
       "      <th>9</th>\n",
       "      <td>DynamoDB</td>\n",
       "      <td>1044</td>\n",
       "    </tr>\n",
       "    <tr>\n",
       "      <th>10</th>\n",
       "      <td>Cassandra</td>\n",
       "      <td>1003</td>\n",
       "    </tr>\n",
       "    <tr>\n",
       "      <th>11</th>\n",
       "      <td>Oracle</td>\n",
       "      <td>870</td>\n",
       "    </tr>\n",
       "    <tr>\n",
       "      <th>12</th>\n",
       "      <td>Other(s):</td>\n",
       "      <td>645</td>\n",
       "    </tr>\n",
       "    <tr>\n",
       "      <th>13</th>\n",
       "      <td>Couchbase</td>\n",
       "      <td>390</td>\n",
       "    </tr>\n",
       "  </tbody>\n",
       "</table>\n",
       "</div>"
      ],
      "text/plain": [
       "                   futDB  cntDB\n",
       "0             PostgreSQL   4328\n",
       "1                MongoDB   3649\n",
       "2                  Redis   3331\n",
       "3                  MySQL   3281\n",
       "4          Elasticsearch   2856\n",
       "5   Microsoft SQL Server   2706\n",
       "6                 SQLite   2437\n",
       "7               Firebase   1650\n",
       "8                MariaDB   1385\n",
       "9               DynamoDB   1044\n",
       "10             Cassandra   1003\n",
       "11                Oracle    870\n",
       "12             Other(s):    645\n",
       "13             Couchbase    390"
      ]
     },
     "execution_count": 40,
     "metadata": {},
     "output_type": "execute_result"
    }
   ],
   "source": [
    "QUERY = \"\"\" \n",
    "SELECT DatabaseDesireNextYear as futDB, count(DatabaseDesireNextYear) as cntDB from DatabaseDesireNextYear\n",
    "group by futDB\n",
    "order by cntDB DESC\n",
    "\"\"\"\n",
    "\n",
    "dfFutDBAll = pd.read_sql_query(QUERY, conn)\n",
    "dfFutDBAll\n"
   ]
  },
  {
   "cell_type": "markdown",
   "metadata": {},
   "source": [
    "### Stacked Charts\n"
   ]
  },
  {
   "cell_type": "markdown",
   "metadata": {},
   "source": [
    "Create a stacked chart of median `WorkWeekHrs` and `CodeRevHrs` for the age group 30 to 35.\n"
   ]
  },
  {
   "cell_type": "code",
   "execution_count": 41,
   "metadata": {},
   "outputs": [],
   "source": [
    "# your code goes here\n",
    "\n",
    "QUERY = \"\"\"\n",
    "SELECT Age, WorkWeekHrs, CodeRevHrs FROM master\n",
    "where Age between 30 and 35\n",
    "order by Age DESC\n",
    "\"\"\"\n",
    "\n",
    "qryStkChrt = pd.read_sql_query(QUERY, conn)\n",
    "#qryStkChrt\n"
   ]
  },
  {
   "cell_type": "code",
   "execution_count": 42,
   "metadata": {},
   "outputs": [
    {
     "data": {
      "text/plain": [
       "\"\\nmedCodekHrs = qrydf['CodeRevHrs'].median()\\nqrydf['CodeRevHrs'] = df['CodeRevHrs'].fillna(medCodeHrs)\\n\""
      ]
     },
     "execution_count": 42,
     "metadata": {},
     "output_type": "execute_result"
    }
   ],
   "source": [
    "#  Replacing nan values in AGE Column\n",
    "\n",
    "#qryStkChrt.set_index(['WorkWeekHrs'])\n",
    "\n",
    "if qryStkChrt['Age'].isnull().sum() > 0:\n",
    "    meanAge = qryStkChrt['Age'].mean()\n",
    "    qryStkChrt['Age'] = qryStkChrt['Age'].fillna(meanAge)\n",
    "    \n",
    "if qryStkChrt['WorkWeekHrs'].isnull().sum() > 0:\n",
    "    meanWork = qryStkChrt['WorkWeekHrs'].mean()\n",
    "    qryStkChrt['WorkWeekHrs'] = qryStkChrt['WorkWeekHrs'].fillna(meanWork)\n",
    "\n",
    "if qryStkChrt['CodeRevHrs'].isnull().sum() > 0:\n",
    "    meanCode = qryStkChrt['CodeRevHrs'].mean()\n",
    "    qryStkChrt['CodeRevHrs'] = qryStkChrt['CodeRevHrs'].fillna(meanCode)\n",
    "\n",
    "\"\"\"\n",
    "medCodekHrs = qrydf['CodeRevHrs'].median()\n",
    "qrydf['CodeRevHrs'] = df['CodeRevHrs'].fillna(medCodeHrs)\n",
    "\"\"\""
   ]
  },
  {
   "cell_type": "code",
   "execution_count": 43,
   "metadata": {},
   "outputs": [
    {
     "data": {
      "text/html": [
       "<div>\n",
       "<style scoped>\n",
       "    .dataframe tbody tr th:only-of-type {\n",
       "        vertical-align: middle;\n",
       "    }\n",
       "\n",
       "    .dataframe tbody tr th {\n",
       "        vertical-align: top;\n",
       "    }\n",
       "\n",
       "    .dataframe thead th {\n",
       "        text-align: right;\n",
       "    }\n",
       "</style>\n",
       "<table border=\"1\" class=\"dataframe\">\n",
       "  <thead>\n",
       "    <tr style=\"text-align: right;\">\n",
       "      <th></th>\n",
       "      <th>Age</th>\n",
       "      <th>WorkWeekHrs</th>\n",
       "      <th>CodeRevHrs</th>\n",
       "    </tr>\n",
       "  </thead>\n",
       "  <tbody>\n",
       "    <tr>\n",
       "      <th>0</th>\n",
       "      <td>30.0</td>\n",
       "      <td>40.0</td>\n",
       "      <td>4.784443</td>\n",
       "    </tr>\n",
       "    <tr>\n",
       "      <th>1</th>\n",
       "      <td>31.0</td>\n",
       "      <td>40.0</td>\n",
       "      <td>4.784443</td>\n",
       "    </tr>\n",
       "    <tr>\n",
       "      <th>2</th>\n",
       "      <td>32.0</td>\n",
       "      <td>40.0</td>\n",
       "      <td>4.784443</td>\n",
       "    </tr>\n",
       "    <tr>\n",
       "      <th>3</th>\n",
       "      <td>33.0</td>\n",
       "      <td>40.0</td>\n",
       "      <td>4.000000</td>\n",
       "    </tr>\n",
       "    <tr>\n",
       "      <th>4</th>\n",
       "      <td>34.0</td>\n",
       "      <td>40.0</td>\n",
       "      <td>4.784443</td>\n",
       "    </tr>\n",
       "    <tr>\n",
       "      <th>5</th>\n",
       "      <td>35.0</td>\n",
       "      <td>40.0</td>\n",
       "      <td>4.784443</td>\n",
       "    </tr>\n",
       "  </tbody>\n",
       "</table>\n",
       "</div>"
      ],
      "text/plain": [
       "    Age  WorkWeekHrs  CodeRevHrs\n",
       "0  30.0         40.0    4.784443\n",
       "1  31.0         40.0    4.784443\n",
       "2  32.0         40.0    4.784443\n",
       "3  33.0         40.0    4.000000\n",
       "4  34.0         40.0    4.784443\n",
       "5  35.0         40.0    4.784443"
      ]
     },
     "execution_count": 43,
     "metadata": {},
     "output_type": "execute_result"
    }
   ],
   "source": [
    "#Using Python to Groupby\n",
    "\n",
    "qryStkChrt2 = qryStkChrt[['WorkWeekHrs', 'CodeRevHrs', 'Age']]\n",
    "qryStkChrt3 = qryStkChrt2.groupby(['Age'], as_index=False).median()\n",
    "qryStkChrt3\n",
    "                          "
   ]
  },
  {
   "cell_type": "code",
   "execution_count": 45,
   "metadata": {},
   "outputs": [
    {
     "data": {
      "image/png": "[encoded data removed]",
      "text/plain": [
       "<Figure size 1152x432 with 1 Axes>"
      ]
     },
     "metadata": {
      "needs_background": "light"
     },
     "output_type": "display_data"
    }
   ],
   "source": [
    "# https://www.geeksforgeeks.org/create-a-stacked-bar-plot-in-matplotlib/\n",
    "#\n",
    "\n",
    "x = qryStkChrt3['Age']     #['A', 'B', 'C', 'D']\n",
    "y1 = qryStkChrt3['WorkWeekHrs']     #np.array([10, 20, 10, 30])\n",
    "y2 = qryStkChrt3['CodeRevHrs']     #np.array([20, 25, 15, 25])\n",
    "  \n",
    "\n",
    "plt.figure(figsize=(16, 6))\n",
    "\n",
    "# plot bars in stack manner\n",
    "plt.bar(x, y1, color='r')\n",
    "plt.bar(x, y2, bottom=y1, color='b')\n",
    "\n",
    "plt.xlabel(\"Age Category\", size=14)\n",
    "plt.ylabel(\"Median Hours\", size=14)\n",
    "plt.legend([\"WorkedWeekHrs\", \"CodeRevHrs\"])\n",
    "plt.title(\"Median Hours Worked & Coded by Age Group 30 - 35\", size=16)\n",
    "plt.show()"
   ]
  },
  {
   "cell_type": "markdown",
   "metadata": {},
   "source": [
    "### Analyzing WorkWeekHrs & CodeRevHrs by Age for All Ages"
   ]
  },
  {
   "cell_type": "code",
   "execution_count": 46,
   "metadata": {},
   "outputs": [
    {
     "data": {
      "text/html": [
       "<div>\n",
       "<style scoped>\n",
       "    .dataframe tbody tr th:only-of-type {\n",
       "        vertical-align: middle;\n",
       "    }\n",
       "\n",
       "    .dataframe tbody tr th {\n",
       "        vertical-align: top;\n",
       "    }\n",
       "\n",
       "    .dataframe thead th {\n",
       "        text-align: right;\n",
       "    }\n",
       "</style>\n",
       "<table border=\"1\" class=\"dataframe\">\n",
       "  <thead>\n",
       "    <tr style=\"text-align: right;\">\n",
       "      <th></th>\n",
       "      <th>Age</th>\n",
       "      <th>WorkWeekHrs</th>\n",
       "      <th>CodeRevHrs</th>\n",
       "    </tr>\n",
       "  </thead>\n",
       "  <tbody>\n",
       "    <tr>\n",
       "      <th>0</th>\n",
       "      <td>99.0</td>\n",
       "      <td>45.0</td>\n",
       "      <td>8.0</td>\n",
       "    </tr>\n",
       "    <tr>\n",
       "      <th>1</th>\n",
       "      <td>72.0</td>\n",
       "      <td>20.0</td>\n",
       "      <td>NaN</td>\n",
       "    </tr>\n",
       "    <tr>\n",
       "      <th>2</th>\n",
       "      <td>71.0</td>\n",
       "      <td>37.0</td>\n",
       "      <td>3.0</td>\n",
       "    </tr>\n",
       "    <tr>\n",
       "      <th>3</th>\n",
       "      <td>71.0</td>\n",
       "      <td>50.0</td>\n",
       "      <td>3.0</td>\n",
       "    </tr>\n",
       "    <tr>\n",
       "      <th>4</th>\n",
       "      <td>69.0</td>\n",
       "      <td>36.0</td>\n",
       "      <td>5.0</td>\n",
       "    </tr>\n",
       "    <tr>\n",
       "      <th>...</th>\n",
       "      <td>...</td>\n",
       "      <td>...</td>\n",
       "      <td>...</td>\n",
       "    </tr>\n",
       "    <tr>\n",
       "      <th>11393</th>\n",
       "      <td>NaN</td>\n",
       "      <td>50.0</td>\n",
       "      <td>5.0</td>\n",
       "    </tr>\n",
       "    <tr>\n",
       "      <th>11394</th>\n",
       "      <td>NaN</td>\n",
       "      <td>40.0</td>\n",
       "      <td>NaN</td>\n",
       "    </tr>\n",
       "    <tr>\n",
       "      <th>11395</th>\n",
       "      <td>NaN</td>\n",
       "      <td>65.0</td>\n",
       "      <td>7.0</td>\n",
       "    </tr>\n",
       "    <tr>\n",
       "      <th>11396</th>\n",
       "      <td>NaN</td>\n",
       "      <td>35.0</td>\n",
       "      <td>4.0</td>\n",
       "    </tr>\n",
       "    <tr>\n",
       "      <th>11397</th>\n",
       "      <td>NaN</td>\n",
       "      <td>40.0</td>\n",
       "      <td>3.0</td>\n",
       "    </tr>\n",
       "  </tbody>\n",
       "</table>\n",
       "<p>11398 rows × 3 columns</p>\n",
       "</div>"
      ],
      "text/plain": [
       "        Age  WorkWeekHrs  CodeRevHrs\n",
       "0      99.0         45.0         8.0\n",
       "1      72.0         20.0         NaN\n",
       "2      71.0         37.0         3.0\n",
       "3      71.0         50.0         3.0\n",
       "4      69.0         36.0         5.0\n",
       "...     ...          ...         ...\n",
       "11393   NaN         50.0         5.0\n",
       "11394   NaN         40.0         NaN\n",
       "11395   NaN         65.0         7.0\n",
       "11396   NaN         35.0         4.0\n",
       "11397   NaN         40.0         3.0\n",
       "\n",
       "[11398 rows x 3 columns]"
      ]
     },
     "execution_count": 46,
     "metadata": {},
     "output_type": "execute_result"
    }
   ],
   "source": [
    "QUERY = \"\"\"\n",
    "SELECT Age, WorkWeekHrs, CodeRevHrs FROM master\n",
    "order by Age DESC\n",
    "\"\"\"\n",
    "\n",
    "qryStkChrt = pd.read_sql_query(QUERY, conn)\n",
    "qryStkChrt"
   ]
  },
  {
   "cell_type": "code",
   "execution_count": 47,
   "metadata": {},
   "outputs": [
    {
     "data": {
      "text/plain": [
       "\"\\nmedCodekHrs = qrydf['CodeRevHrs'].median()\\nqrydf['CodeRevHrs'] = df['CodeRevHrs'].fillna(medCodeHrs)\\n\""
      ]
     },
     "execution_count": 47,
     "metadata": {},
     "output_type": "execute_result"
    }
   ],
   "source": [
    "#  Replacing nan values in AGE Column\n",
    "\n",
    "#qryStkChrt.set_index(['WorkWeekHrs'])\n",
    "\n",
    "if qryStkChrt['Age'].isnull().sum() > 0:\n",
    "    meanAge = qryStkChrt['Age'].mean()\n",
    "    qryStkChrt['Age'] = qryStkChrt['Age'].fillna(meanAge)\n",
    "    \n",
    "if qryStkChrt['WorkWeekHrs'].isnull().sum() > 0:\n",
    "    meanWork = qryStkChrt['WorkWeekHrs'].mean()\n",
    "    qryStkChrt['WorkWeekHrs'] = qryStkChrt['WorkWeekHrs'].fillna(meanWork)\n",
    "\n",
    "if qryStkChrt['CodeRevHrs'].isnull().sum() > 0:\n",
    "    meanCode = qryStkChrt['CodeRevHrs'].mean()\n",
    "    qryStkChrt['CodeRevHrs'] = qryStkChrt['CodeRevHrs'].fillna(meanCode)\n",
    "\n",
    "\"\"\"\n",
    "medCodekHrs = qrydf['CodeRevHrs'].median()\n",
    "qrydf['CodeRevHrs'] = df['CodeRevHrs'].fillna(medCodeHrs)\n",
    "\"\"\""
   ]
  },
  {
   "cell_type": "code",
   "execution_count": 49,
   "metadata": {},
   "outputs": [
    {
     "data": {
      "image/png": "[encoded data removed]",
      "text/plain": [
       "<Figure size 1728x1152 with 1 Axes>"
      ]
     },
     "metadata": {
      "needs_background": "light"
     },
     "output_type": "display_data"
    }
   ],
   "source": [
    "# https://www.geeksforgeeks.org/create-a-stacked-bar-plot-in-matplotlib/\n",
    "#\n",
    "\n",
    "x = qryStkChrt['Age']     #['A', 'B', 'C', 'D']\n",
    "y1 = qryStkChrt['WorkWeekHrs']     #np.array([10, 20, 10, 30])\n",
    "y2 = qryStkChrt['CodeRevHrs']     #np.array([20, 25, 15, 25])\n",
    "  \n",
    "\n",
    "plt.figure(figsize=(20, 14))\n",
    "\n",
    "# plot bars in stack manner\n",
    "plt.bar(x, y1, color='r')\n",
    "plt.bar(x, y2, bottom=y1, color='b')\n",
    "\n",
    "plt.xlabel(\"Age Category\", size=14)\n",
    "plt.ylabel(\"Median Hours\", size=14)\n",
    "plt.legend([\"WorkedWeekHrs\", \"CodeRevHrs\"])\n",
    "plt.title(\"Mean Hours Worked & Code Hrs sized by Age\", size=16)\n",
    "plt.show()"
   ]
  },
  {
   "cell_type": "markdown",
   "metadata": {},
   "source": [
    "## Visualizing comparison of data\n"
   ]
  },
  {
   "cell_type": "markdown",
   "metadata": {},
   "source": [
    "### Line Chart\n",
    "\n"
   ]
  },
  {
   "cell_type": "markdown",
   "metadata": {},
   "source": [
    "Plot the median `ConvertedComp` for all ages from 45 to 60.\n"
   ]
  },
  {
   "cell_type": "code",
   "execution_count": 50,
   "metadata": {},
   "outputs": [
    {
     "data": {
      "text/html": [
       "<div>\n",
       "<style scoped>\n",
       "    .dataframe tbody tr th:only-of-type {\n",
       "        vertical-align: middle;\n",
       "    }\n",
       "\n",
       "    .dataframe tbody tr th {\n",
       "        vertical-align: top;\n",
       "    }\n",
       "\n",
       "    .dataframe thead th {\n",
       "        text-align: right;\n",
       "    }\n",
       "</style>\n",
       "<table border=\"1\" class=\"dataframe\">\n",
       "  <thead>\n",
       "    <tr style=\"text-align: right;\">\n",
       "      <th></th>\n",
       "      <th>Age</th>\n",
       "      <th>ConvertedComp</th>\n",
       "    </tr>\n",
       "  </thead>\n",
       "  <tbody>\n",
       "    <tr>\n",
       "      <th>0</th>\n",
       "      <td>45.0</td>\n",
       "      <td>72522.0</td>\n",
       "    </tr>\n",
       "    <tr>\n",
       "      <th>1</th>\n",
       "      <td>45.0</td>\n",
       "      <td>54876.0</td>\n",
       "    </tr>\n",
       "    <tr>\n",
       "      <th>2</th>\n",
       "      <td>45.0</td>\n",
       "      <td>185000.0</td>\n",
       "    </tr>\n",
       "    <tr>\n",
       "      <th>3</th>\n",
       "      <td>45.0</td>\n",
       "      <td>165000.0</td>\n",
       "    </tr>\n",
       "    <tr>\n",
       "      <th>4</th>\n",
       "      <td>45.0</td>\n",
       "      <td>130000.0</td>\n",
       "    </tr>\n",
       "    <tr>\n",
       "      <th>...</th>\n",
       "      <td>...</td>\n",
       "      <td>...</td>\n",
       "    </tr>\n",
       "    <tr>\n",
       "      <th>594</th>\n",
       "      <td>59.0</td>\n",
       "      <td>72530.0</td>\n",
       "    </tr>\n",
       "    <tr>\n",
       "      <th>595</th>\n",
       "      <td>59.0</td>\n",
       "      <td>160000.0</td>\n",
       "    </tr>\n",
       "    <tr>\n",
       "      <th>596</th>\n",
       "      <td>59.0</td>\n",
       "      <td>2000000.0</td>\n",
       "    </tr>\n",
       "    <tr>\n",
       "      <th>597</th>\n",
       "      <td>60.0</td>\n",
       "      <td>150000.0</td>\n",
       "    </tr>\n",
       "    <tr>\n",
       "      <th>598</th>\n",
       "      <td>60.0</td>\n",
       "      <td>114575.0</td>\n",
       "    </tr>\n",
       "  </tbody>\n",
       "</table>\n",
       "<p>599 rows × 2 columns</p>\n",
       "</div>"
      ],
      "text/plain": [
       "      Age  ConvertedComp\n",
       "0    45.0        72522.0\n",
       "1    45.0        54876.0\n",
       "2    45.0       185000.0\n",
       "3    45.0       165000.0\n",
       "4    45.0       130000.0\n",
       "..    ...            ...\n",
       "594  59.0        72530.0\n",
       "595  59.0       160000.0\n",
       "596  59.0      2000000.0\n",
       "597  60.0       150000.0\n",
       "598  60.0       114575.0\n",
       "\n",
       "[599 rows x 2 columns]"
      ]
     },
     "execution_count": 50,
     "metadata": {},
     "output_type": "execute_result"
    }
   ],
   "source": [
    "# your code goes here\n",
    "QUERY = \"\"\"\n",
    "Select Age, ConvertedComp from master\n",
    "where Age between 45 and 60\n",
    "order by Age\n",
    "\"\"\"\n",
    "\n",
    "qryLnChrt = pd.read_sql_query(QUERY, conn)\n",
    "qryLnChrt"
   ]
  },
  {
   "cell_type": "code",
   "execution_count": 51,
   "metadata": {},
   "outputs": [],
   "source": [
    "#  Replacing nan values in AGE Column\n",
    "\n",
    "#qryStkChrt.set_index(['WorkWeekHrs'])\n",
    "\n",
    "if qryLnChrt['ConvertedComp'].isnull().sum() > 0:\n",
    "    meanConv = qryLnChrt['ConvertedComp'].mean()\n",
    "    qryLnChrt['ConvertedComp'] = qryLnChrt['ConvertedComp'].fillna(meanConv)\n",
    "\n",
    "if qryLnChrt['Age'].isnull().sum() > 0:\n",
    "    meanAge = qryLnChrt['Age'].mean()\n",
    "    qryLnChrt['Age'] = qryLnChrt['Age'].fillna(meanAge)\n"
   ]
  },
  {
   "cell_type": "code",
   "execution_count": 52,
   "metadata": {},
   "outputs": [
    {
     "data": {
      "text/plain": [
       "'\\nqryLnChrt = pd.read_sql_query(QUERY, conn)\\nqryLnChrt\\n'"
      ]
     },
     "execution_count": 52,
     "metadata": {},
     "output_type": "execute_result"
    }
   ],
   "source": [
    "# your code goes here Ages 25 - 35:  Used for Lab Responses\n",
    "\n",
    "\"\"\"\n",
    "QUERY =\n",
    "Select Age, ConvertedComp from master\n",
    "where Age between 25 and 35\n",
    "order by Age\n",
    "\"\"\"\n",
    "\n",
    "\"\"\"\n",
    "qryLnChrt = pd.read_sql_query(QUERY, conn)\n",
    "qryLnChrt\n",
    "\"\"\""
   ]
  },
  {
   "cell_type": "code",
   "execution_count": 53,
   "metadata": {},
   "outputs": [
    {
     "data": {
      "text/html": [
       "<div>\n",
       "<style scoped>\n",
       "    .dataframe tbody tr th:only-of-type {\n",
       "        vertical-align: middle;\n",
       "    }\n",
       "\n",
       "    .dataframe tbody tr th {\n",
       "        vertical-align: top;\n",
       "    }\n",
       "\n",
       "    .dataframe thead th {\n",
       "        text-align: right;\n",
       "    }\n",
       "</style>\n",
       "<table border=\"1\" class=\"dataframe\">\n",
       "  <thead>\n",
       "    <tr style=\"text-align: right;\">\n",
       "      <th></th>\n",
       "      <th>Age</th>\n",
       "      <th>ConvertedComp</th>\n",
       "    </tr>\n",
       "  </thead>\n",
       "  <tbody>\n",
       "    <tr>\n",
       "      <th>0</th>\n",
       "      <td>45.0</td>\n",
       "      <td>94210.0</td>\n",
       "    </tr>\n",
       "    <tr>\n",
       "      <th>1</th>\n",
       "      <td>46.0</td>\n",
       "      <td>103500.0</td>\n",
       "    </tr>\n",
       "    <tr>\n",
       "      <th>2</th>\n",
       "      <td>47.0</td>\n",
       "      <td>93746.0</td>\n",
       "    </tr>\n",
       "    <tr>\n",
       "      <th>3</th>\n",
       "      <td>48.0</td>\n",
       "      <td>108250.0</td>\n",
       "    </tr>\n",
       "    <tr>\n",
       "      <th>4</th>\n",
       "      <td>49.0</td>\n",
       "      <td>89520.0</td>\n",
       "    </tr>\n",
       "    <tr>\n",
       "      <th>5</th>\n",
       "      <td>50.0</td>\n",
       "      <td>95000.0</td>\n",
       "    </tr>\n",
       "    <tr>\n",
       "      <th>6</th>\n",
       "      <td>51.0</td>\n",
       "      <td>108423.0</td>\n",
       "    </tr>\n",
       "    <tr>\n",
       "      <th>7</th>\n",
       "      <td>52.0</td>\n",
       "      <td>106044.0</td>\n",
       "    </tr>\n",
       "    <tr>\n",
       "      <th>8</th>\n",
       "      <td>53.0</td>\n",
       "      <td>107754.5</td>\n",
       "    </tr>\n",
       "    <tr>\n",
       "      <th>9</th>\n",
       "      <td>54.0</td>\n",
       "      <td>122000.0</td>\n",
       "    </tr>\n",
       "    <tr>\n",
       "      <th>10</th>\n",
       "      <td>55.0</td>\n",
       "      <td>120000.0</td>\n",
       "    </tr>\n",
       "    <tr>\n",
       "      <th>11</th>\n",
       "      <td>56.0</td>\n",
       "      <td>116030.5</td>\n",
       "    </tr>\n",
       "    <tr>\n",
       "      <th>12</th>\n",
       "      <td>57.0</td>\n",
       "      <td>132156.0</td>\n",
       "    </tr>\n",
       "    <tr>\n",
       "      <th>13</th>\n",
       "      <td>58.0</td>\n",
       "      <td>108000.0</td>\n",
       "    </tr>\n",
       "    <tr>\n",
       "      <th>14</th>\n",
       "      <td>59.0</td>\n",
       "      <td>120000.0</td>\n",
       "    </tr>\n",
       "    <tr>\n",
       "      <th>15</th>\n",
       "      <td>60.0</td>\n",
       "      <td>132287.5</td>\n",
       "    </tr>\n",
       "  </tbody>\n",
       "</table>\n",
       "</div>"
      ],
      "text/plain": [
       "     Age  ConvertedComp\n",
       "0   45.0        94210.0\n",
       "1   46.0       103500.0\n",
       "2   47.0        93746.0\n",
       "3   48.0       108250.0\n",
       "4   49.0        89520.0\n",
       "5   50.0        95000.0\n",
       "6   51.0       108423.0\n",
       "7   52.0       106044.0\n",
       "8   53.0       107754.5\n",
       "9   54.0       122000.0\n",
       "10  55.0       120000.0\n",
       "11  56.0       116030.5\n",
       "12  57.0       132156.0\n",
       "13  58.0       108000.0\n",
       "14  59.0       120000.0\n",
       "15  60.0       132287.5"
      ]
     },
     "execution_count": 53,
     "metadata": {},
     "output_type": "execute_result"
    }
   ],
   "source": [
    "# Find MEDIAN for ConvertedComp by Age\n",
    "\n",
    "qrydf_LnChrt = qryLnChrt[['Age', 'ConvertedComp']]\n",
    "qrydf_LnChrt2 = qrydf_LnChrt.groupby(['Age'], as_index=False).median()\n",
    "qrydf_LnChrt2\n"
   ]
  },
  {
   "cell_type": "code",
   "execution_count": 56,
   "metadata": {
    "tags": []
   },
   "outputs": [
    {
     "data": {
      "image/png": "[encoded data removed]",
      "text/plain": [
       "<Figure size 1152x432 with 1 Axes>"
      ]
     },
     "metadata": {
      "needs_background": "light"
     },
     "output_type": "display_data"
    }
   ],
   "source": [
    "#PLOTTING LINE CHART\n",
    "#https://www.geeksforgeeks.org/line-chart-in-matplotlib-python/\n",
    "\n",
    "plt.figure(figsize=(16, 6))\n",
    "plt.plot(qrydf_LnChrt2['Age'], qrydf_LnChrt2['ConvertedComp'])\n",
    "plt.xlabel(\"Age\", size=14)  # add X-axis label\n",
    "plt.ylabel(\"Median Compensation ($USD)\", size=14)  # add Y-axis label\n",
    "plt.title(\"Line Chart: Converted Compensation by Age 45 - 60, size=16)  # add title\n",
    "plt.show()"
   ]
  },
  {
   "cell_type": "code",
   "execution_count": 57,
   "metadata": {},
   "outputs": [
    {
     "data": {
      "text/plain": [
       "'qrydf_LnChrt2[\\'ConvertedComp\\'].plot(kind=\\'line\\', figsize=(16, 6)) # add to subplot 2\\n\\n#plt.plot(qrydf_LnChrt2[\\'Age\\'], qrydf_LnChrt2[\\'ConvertedComp\\'])\\nplt.xlabel(\"Age\")  # add X-axis label\\nplt.ylabel(\"Converted Comp Median\")  # add Y-axis label\\nplt.title(\"Line Chart: Age vs Converted Comp\")  # add title\\nplt.show()'"
      ]
     },
     "execution_count": 57,
     "metadata": {},
     "output_type": "execute_result"
    }
   ],
   "source": [
    "\"\"\"qrydf_LnChrt2['ConvertedComp'].plot(kind='line', figsize=(16, 6)) # add to subplot 2\n",
    "\n",
    "#plt.plot(qrydf_LnChrt2['Age'], qrydf_LnChrt2['ConvertedComp'])\n",
    "plt.xlabel(\"Age\")  # add X-axis label\n",
    "plt.ylabel(\"Converted Comp Median\")  # add Y-axis label\n",
    "plt.title(\"Line Chart: Age vs Converted Comp\")  # add title\n",
    "plt.show()\"\"\"\n"
   ]
  },
  {
   "cell_type": "markdown",
   "metadata": {},
   "source": [
    "### Bar Chart\n"
   ]
  },
  {
   "cell_type": "markdown",
   "metadata": {},
   "source": [
    "#### Create a horizontal bar chart using column `MainBranch.`\n"
   ]
  },
  {
   "cell_type": "code",
   "execution_count": 74,
   "metadata": {},
   "outputs": [
    {
     "data": {
      "text/html": [
       "<div>\n",
       "<style scoped>\n",
       "    .dataframe tbody tr th:only-of-type {\n",
       "        vertical-align: middle;\n",
       "    }\n",
       "\n",
       "    .dataframe tbody tr th {\n",
       "        vertical-align: top;\n",
       "    }\n",
       "\n",
       "    .dataframe thead th {\n",
       "        text-align: right;\n",
       "    }\n",
       "</style>\n",
       "<table border=\"1\" class=\"dataframe\">\n",
       "  <thead>\n",
       "    <tr style=\"text-align: right;\">\n",
       "      <th></th>\n",
       "      <th>MainBranch</th>\n",
       "      <th>cntBranch</th>\n",
       "    </tr>\n",
       "  </thead>\n",
       "  <tbody>\n",
       "    <tr>\n",
       "      <th>0</th>\n",
       "      <td>I am a developer by profession</td>\n",
       "      <td>10618</td>\n",
       "    </tr>\n",
       "    <tr>\n",
       "      <th>1</th>\n",
       "      <td>I am not primarily a developer, but I write co...</td>\n",
       "      <td>780</td>\n",
       "    </tr>\n",
       "  </tbody>\n",
       "</table>\n",
       "</div>"
      ],
      "text/plain": [
       "                                          MainBranch  cntBranch\n",
       "0                     I am a developer by profession      10618\n",
       "1  I am not primarily a developer, but I write co...        780"
      ]
     },
     "execution_count": 74,
     "metadata": {},
     "output_type": "execute_result"
    }
   ],
   "source": [
    "#Get Distince MainBranch Values\n",
    "\n",
    "QUERY = \"\"\"\n",
    "SELECT MainBranch, count(MainBranch) as cntBranch from master\n",
    "group by MainBranch\n",
    "order by MainBranch\n",
    "\"\"\"\n",
    "\n",
    "qryBrnch = pd.read_sql_query(QUERY, conn)\n",
    "qryBrnch\n",
    "\n",
    "#df['DatabaseW.value_counts()"
   ]
  },
  {
   "cell_type": "code",
   "execution_count": 75,
   "metadata": {},
   "outputs": [],
   "source": [
    "#  Replacing nan values in MainBranch Col with Most Frequent Value\n",
    "\n",
    "if qryBrnch['MainBranch'].isnull().sum() > 0:\n",
    "    modeBrnch = qryBrnch['MainBranch'],mode().iloc[0]\n",
    "    qryBrnch['MainBranch'] = qryBrnch['MainBranch'].fillna(modeBrnch)"
   ]
  },
  {
   "cell_type": "markdown",
   "metadata": {},
   "source": [
    "### Barchart of MainBranch BEFORE Normalization"
   ]
  },
  {
   "cell_type": "code",
   "execution_count": 77,
   "metadata": {},
   "outputs": [
    {
     "data": {
      "image/png": "[encoded data removed]",
      "text/plain": [
       "<Figure size 1152x432 with 1 Axes>"
      ]
     },
     "metadata": {
      "needs_background": "light"
     },
     "output_type": "display_data"
    }
   ],
   "source": [
    "# your code goes here\n",
    "#https://www.geeksforgeeks.org/bar-plot-in-matplotlib/\n",
    "\n",
    "brnch = qryBrnch['MainBranch']\n",
    "cnt = qryBrnch['cntBranch']\n",
    "\n",
    "# Figure Size\n",
    "plt.figure(figsize=(16, 6))\n",
    "\n",
    "# Horizontal Bar Plot\n",
    "plt.barh(brnch, cnt)   \n",
    "\n",
    "plt.ylabel(\"Branch Categories\", size=16)  # add X-axis label\n",
    "plt.xlabel(\"Branch Mode (Count)\", size=16)  # add Y-axis label\n",
    "plt.title(\"HBC: Main Branch Category Count-Before Standardization\", size=18)  # add title\n",
    "\n",
    "# Show Plot\n",
    "plt.show()\n",
    "\n"
   ]
  },
  {
   "cell_type": "code",
   "execution_count": 78,
   "metadata": {},
   "outputs": [
    {
     "data": {
      "text/html": [
       "<div>\n",
       "<style scoped>\n",
       "    .dataframe tbody tr th:only-of-type {\n",
       "        vertical-align: middle;\n",
       "    }\n",
       "\n",
       "    .dataframe tbody tr th {\n",
       "        vertical-align: top;\n",
       "    }\n",
       "\n",
       "    .dataframe thead th {\n",
       "        text-align: right;\n",
       "    }\n",
       "</style>\n",
       "<table border=\"1\" class=\"dataframe\">\n",
       "  <thead>\n",
       "    <tr style=\"text-align: right;\">\n",
       "      <th></th>\n",
       "      <th>MainBranch</th>\n",
       "      <th>cntBranch</th>\n",
       "    </tr>\n",
       "  </thead>\n",
       "  <tbody>\n",
       "    <tr>\n",
       "      <th>0</th>\n",
       "      <td>I am a developer by profession</td>\n",
       "      <td>1.0</td>\n",
       "    </tr>\n",
       "    <tr>\n",
       "      <th>1</th>\n",
       "      <td>I am not primarily a developer, but I write co...</td>\n",
       "      <td>0.0</td>\n",
       "    </tr>\n",
       "  </tbody>\n",
       "</table>\n",
       "</div>"
      ],
      "text/plain": [
       "                                          MainBranch  cntBranch\n",
       "0                     I am a developer by profession        1.0\n",
       "1  I am not primarily a developer, but I write co...        0.0"
      ]
     },
     "execution_count": 78,
     "metadata": {},
     "output_type": "execute_result"
    }
   ],
   "source": [
    "# Need to Normalize MainBranch field - Non-coders are outweighted\n",
    "\n",
    "qryBrnch['cntBranch'] = (qryBrnch['cntBranch'] - qryBrnch['cntBranch'].min()) / (qryBrnch['cntBranch'].max() - qryBrnch['cntBranch'].min())\n",
    "qryBrnch"
   ]
  },
  {
   "cell_type": "code",
   "execution_count": 79,
   "metadata": {},
   "outputs": [],
   "source": [
    "#  Remove Default Index column\n",
    "\n",
    "qryBrnch.set_index(\"MainBranch\", drop=False, inplace=True)"
   ]
  },
  {
   "cell_type": "code",
   "execution_count": 80,
   "metadata": {},
   "outputs": [
    {
     "data": {
      "text/plain": [
       "MainBranch     object\n",
       "cntBranch     float64\n",
       "dtype: object"
      ]
     },
     "execution_count": 80,
     "metadata": {},
     "output_type": "execute_result"
    }
   ],
   "source": [
    "qryBrnch.dtypes"
   ]
  },
  {
   "cell_type": "markdown",
   "metadata": {},
   "source": [
    "### Barchart of MainBranch AFTER Normalization"
   ]
  },
  {
   "cell_type": "code",
   "execution_count": 81,
   "metadata": {},
   "outputs": [
    {
     "data": {
      "image/png": "[encoded data removed]",
      "text/plain": [
       "<Figure size 720x432 with 1 Axes>"
      ]
     },
     "metadata": {
      "needs_background": "light"
     },
     "output_type": "display_data"
    }
   ],
   "source": [
    "# your code goes here\n",
    "#https://www.geeksforgeeks.org/bar-plot-in-matplotlib/\n",
    "\n",
    "brnch = qryBrnch['MainBranch']\n",
    "cnt = qryBrnch['cntBranch']\n",
    "\n",
    "# Figure Size\n",
    "plt.figure(figsize=(10, 6))\n",
    "\n",
    "# Horizontal Bar Plot\n",
    "plt.barh(brnch, cnt)   \n",
    "\n",
    "plt.ylabel(\"Branch Categories\", size=16)  # add X-axis label\n",
    "plt.xlabel(\"Branch Mode (Count)\", size=16)  # add Y-axis label\n",
    "plt.title(\"HBC: Main Branch Category count - After Standardization\", size=18)  # add title\n",
    "\n",
    "# Show Plot\n",
    "plt.show()\n",
    "\n"
   ]
  },
  {
   "cell_type": "markdown",
   "metadata": {},
   "source": [
    "### What are the Different IT areas"
   ]
  },
  {
   "cell_type": "code",
   "execution_count": 65,
   "metadata": {
    "tags": []
   },
   "outputs": [
    {
     "data": {
      "text/html": [
       "<div>\n",
       "<style scoped>\n",
       "    .dataframe tbody tr th:only-of-type {\n",
       "        vertical-align: middle;\n",
       "    }\n",
       "\n",
       "    .dataframe tbody tr th {\n",
       "        vertical-align: top;\n",
       "    }\n",
       "\n",
       "    .dataframe thead th {\n",
       "        text-align: right;\n",
       "    }\n",
       "</style>\n",
       "<table border=\"1\" class=\"dataframe\">\n",
       "  <thead>\n",
       "    <tr style=\"text-align: right;\">\n",
       "      <th></th>\n",
       "      <th>DevType</th>\n",
       "      <th>cnt</th>\n",
       "    </tr>\n",
       "  </thead>\n",
       "  <tbody>\n",
       "    <tr>\n",
       "      <th>0</th>\n",
       "      <td>Developer, full-stack</td>\n",
       "      <td>6928</td>\n",
       "    </tr>\n",
       "    <tr>\n",
       "      <th>1</th>\n",
       "      <td>Developer, back-end</td>\n",
       "      <td>6290</td>\n",
       "    </tr>\n",
       "    <tr>\n",
       "      <th>2</th>\n",
       "      <td>Developer, front-end</td>\n",
       "      <td>3920</td>\n",
       "    </tr>\n",
       "    <tr>\n",
       "      <th>3</th>\n",
       "      <td>Developer, desktop or enterprise applications</td>\n",
       "      <td>2575</td>\n",
       "    </tr>\n",
       "    <tr>\n",
       "      <th>4</th>\n",
       "      <td>Developer, mobile</td>\n",
       "      <td>1959</td>\n",
       "    </tr>\n",
       "    <tr>\n",
       "      <th>5</th>\n",
       "      <td>DevOps specialist</td>\n",
       "      <td>1639</td>\n",
       "    </tr>\n",
       "    <tr>\n",
       "      <th>6</th>\n",
       "      <td>Database administrator</td>\n",
       "      <td>1413</td>\n",
       "    </tr>\n",
       "    <tr>\n",
       "      <th>7</th>\n",
       "      <td>System administrator</td>\n",
       "      <td>1202</td>\n",
       "    </tr>\n",
       "    <tr>\n",
       "      <th>8</th>\n",
       "      <td>Designer</td>\n",
       "      <td>988</td>\n",
       "    </tr>\n",
       "    <tr>\n",
       "      <th>9</th>\n",
       "      <td>Developer, QA or test</td>\n",
       "      <td>911</td>\n",
       "    </tr>\n",
       "    <tr>\n",
       "      <th>10</th>\n",
       "      <td>Developer, embedded applications or devices</td>\n",
       "      <td>854</td>\n",
       "    </tr>\n",
       "    <tr>\n",
       "      <th>11</th>\n",
       "      <td>Engineer, data</td>\n",
       "      <td>832</td>\n",
       "    </tr>\n",
       "    <tr>\n",
       "      <th>12</th>\n",
       "      <td>Data scientist or machine learning specialist</td>\n",
       "      <td>803</td>\n",
       "    </tr>\n",
       "    <tr>\n",
       "      <th>13</th>\n",
       "      <td>Data or business analyst</td>\n",
       "      <td>802</td>\n",
       "    </tr>\n",
       "    <tr>\n",
       "      <th>14</th>\n",
       "      <td>Student</td>\n",
       "      <td>766</td>\n",
       "    </tr>\n",
       "    <tr>\n",
       "      <th>15</th>\n",
       "      <td>Academic researcher</td>\n",
       "      <td>556</td>\n",
       "    </tr>\n",
       "    <tr>\n",
       "      <th>16</th>\n",
       "      <td>Educator</td>\n",
       "      <td>514</td>\n",
       "    </tr>\n",
       "    <tr>\n",
       "      <th>17</th>\n",
       "      <td>Product manager</td>\n",
       "      <td>480</td>\n",
       "    </tr>\n",
       "    <tr>\n",
       "      <th>18</th>\n",
       "      <td>Developer, game or graphics</td>\n",
       "      <td>472</td>\n",
       "    </tr>\n",
       "    <tr>\n",
       "      <th>19</th>\n",
       "      <td>Engineer, site reliability</td>\n",
       "      <td>449</td>\n",
       "    </tr>\n",
       "    <tr>\n",
       "      <th>20</th>\n",
       "      <td>Engineering manager</td>\n",
       "      <td>386</td>\n",
       "    </tr>\n",
       "    <tr>\n",
       "      <th>21</th>\n",
       "      <td>Scientist</td>\n",
       "      <td>354</td>\n",
       "    </tr>\n",
       "    <tr>\n",
       "      <th>22</th>\n",
       "      <td>Senior executive/VP</td>\n",
       "      <td>160</td>\n",
       "    </tr>\n",
       "    <tr>\n",
       "      <th>23</th>\n",
       "      <td>Marketing or sales professional</td>\n",
       "      <td>61</td>\n",
       "    </tr>\n",
       "  </tbody>\n",
       "</table>\n",
       "</div>"
      ],
      "text/plain": [
       "                                          DevType   cnt\n",
       "0                           Developer, full-stack  6928\n",
       "1                             Developer, back-end  6290\n",
       "2                            Developer, front-end  3920\n",
       "3   Developer, desktop or enterprise applications  2575\n",
       "4                               Developer, mobile  1959\n",
       "5                               DevOps specialist  1639\n",
       "6                          Database administrator  1413\n",
       "7                            System administrator  1202\n",
       "8                                        Designer   988\n",
       "9                           Developer, QA or test   911\n",
       "10    Developer, embedded applications or devices   854\n",
       "11                                 Engineer, data   832\n",
       "12  Data scientist or machine learning specialist   803\n",
       "13                       Data or business analyst   802\n",
       "14                                        Student   766\n",
       "15                            Academic researcher   556\n",
       "16                                       Educator   514\n",
       "17                                Product manager   480\n",
       "18                    Developer, game or graphics   472\n",
       "19                     Engineer, site reliability   449\n",
       "20                            Engineering manager   386\n",
       "21                                      Scientist   354\n",
       "22                            Senior executive/VP   160\n",
       "23                Marketing or sales professional    61"
      ]
     },
     "execution_count": 65,
     "metadata": {},
     "output_type": "execute_result"
    }
   ],
   "source": [
    "# Get Distinct DevType values for Lab Responses\n",
    "\n",
    "QUERY = \"\"\"\n",
    "SELECT distinct(DevType), count(Respondent) as cnt from DevType\n",
    "group by DevType\n",
    "order by cnt DESC\n",
    "\"\"\"\n",
    "\n",
    "qryBrnch = pd.read_sql_query(QUERY, conn)\n",
    "qryBrnch\n",
    "\n",
    "#df['DatabaseW.value_counts()"
   ]
  },
  {
   "cell_type": "code",
   "execution_count": 66,
   "metadata": {
    "tags": []
   },
   "outputs": [
    {
     "data": {
      "text/html": [
       "<div>\n",
       "<style scoped>\n",
       "    .dataframe tbody tr th:only-of-type {\n",
       "        vertical-align: middle;\n",
       "    }\n",
       "\n",
       "    .dataframe tbody tr th {\n",
       "        vertical-align: top;\n",
       "    }\n",
       "\n",
       "    .dataframe thead th {\n",
       "        text-align: right;\n",
       "    }\n",
       "</style>\n",
       "<table border=\"1\" class=\"dataframe\">\n",
       "  <thead>\n",
       "    <tr style=\"text-align: right;\">\n",
       "      <th></th>\n",
       "      <th>ConvertedComp</th>\n",
       "      <th>Age</th>\n",
       "    </tr>\n",
       "  </thead>\n",
       "  <tbody>\n",
       "    <tr>\n",
       "      <th>0</th>\n",
       "      <td>17280.0</td>\n",
       "      <td>NaN</td>\n",
       "    </tr>\n",
       "    <tr>\n",
       "      <th>1</th>\n",
       "      <td>NaN</td>\n",
       "      <td>NaN</td>\n",
       "    </tr>\n",
       "    <tr>\n",
       "      <th>2</th>\n",
       "      <td>68745.0</td>\n",
       "      <td>NaN</td>\n",
       "    </tr>\n",
       "    <tr>\n",
       "      <th>3</th>\n",
       "      <td>80202.0</td>\n",
       "      <td>NaN</td>\n",
       "    </tr>\n",
       "    <tr>\n",
       "      <th>4</th>\n",
       "      <td>22388.0</td>\n",
       "      <td>NaN</td>\n",
       "    </tr>\n",
       "    <tr>\n",
       "      <th>...</th>\n",
       "      <td>...</td>\n",
       "      <td>...</td>\n",
       "    </tr>\n",
       "    <tr>\n",
       "      <th>11393</th>\n",
       "      <td>165000.0</td>\n",
       "      <td>69.0</td>\n",
       "    </tr>\n",
       "    <tr>\n",
       "      <th>11394</th>\n",
       "      <td>NaN</td>\n",
       "      <td>71.0</td>\n",
       "    </tr>\n",
       "    <tr>\n",
       "      <th>11395</th>\n",
       "      <td>175000.0</td>\n",
       "      <td>71.0</td>\n",
       "    </tr>\n",
       "    <tr>\n",
       "      <th>11396</th>\n",
       "      <td>96000.0</td>\n",
       "      <td>72.0</td>\n",
       "    </tr>\n",
       "    <tr>\n",
       "      <th>11397</th>\n",
       "      <td>125000.0</td>\n",
       "      <td>99.0</td>\n",
       "    </tr>\n",
       "  </tbody>\n",
       "</table>\n",
       "<p>11398 rows × 2 columns</p>\n",
       "</div>"
      ],
      "text/plain": [
       "       ConvertedComp   Age\n",
       "0            17280.0   NaN\n",
       "1                NaN   NaN\n",
       "2            68745.0   NaN\n",
       "3            80202.0   NaN\n",
       "4            22388.0   NaN\n",
       "...              ...   ...\n",
       "11393       165000.0  69.0\n",
       "11394            NaN  71.0\n",
       "11395       175000.0  71.0\n",
       "11396        96000.0  72.0\n",
       "11397       125000.0  99.0\n",
       "\n",
       "[11398 rows x 2 columns]"
      ]
     },
     "execution_count": 66,
     "metadata": {},
     "output_type": "execute_result"
    }
   ],
   "source": [
    "# Get Distinct DevType values for Lab Responses\n",
    "\n",
    "QUERY = \"\"\"\n",
    "Select ConvertedComp, Age from master\n",
    "order by Age\n",
    "\"\"\"\n",
    "\n",
    "qryCorr = pd.read_sql_query(QUERY, conn)\n",
    "qryCorr\n"
   ]
  },
  {
   "cell_type": "code",
   "execution_count": 67,
   "metadata": {},
   "outputs": [],
   "source": [
    "#  Replacing nan values in AGE Column\n",
    "#qryStkChrt.set_index(['WorkWeekHrs'])\n",
    "\n",
    "if qryCorr['Age'].isnull().sum() > 0:\n",
    "    meanAge = qryStkChrt['Age'].mean()\n",
    "    qryCorr['Age'] = qryCorr['Age'].fillna(meanAge)\n",
    "    \n",
    "if qryCorr['ConvertedComp'].isnull().sum() > 0:\n",
    "    meanWork = qryCorr['ConvertedComp'].mean()\n",
    "    qryCorr['ConvertedComp'] = qryCorr['ConvertedComp'].fillna(meanWork)\n"
   ]
  },
  {
   "cell_type": "code",
   "execution_count": 68,
   "metadata": {},
   "outputs": [],
   "source": [
    "#Pearson Correlation, P-Value checks\n",
    "\n",
    "import scipy\n",
    "from scipy import stats\n",
    "pearson_coeff, p_value=stats.pearsonr(qryHeat['ConvertedComp'], qryHeat['Age'])\n",
    "                                         "
   ]
  },
  {
   "cell_type": "code",
   "execution_count": 69,
   "metadata": {},
   "outputs": [
    {
     "name": "stdout",
     "output_type": "stream",
     "text": [
      "Pearson Correlation   0.1057\n"
     ]
    },
    {
     "data": {
      "text/plain": [
       "'\\nprint(\"Geeks: {a:5d},  Portal: {p:8.2f}\".\\n     format(a = 453, p = 59.058))\\n'"
      ]
     },
     "execution_count": 69,
     "metadata": {},
     "output_type": "execute_result"
    }
   ],
   "source": [
    "# Get printer Pearson Correlation\n",
    "\n",
    "print('Pearson Correlation {0:8.6f}'.format(pearson_coeff))"
   ]
  },
  {
   "cell_type": "code",
   "execution_count": 100,
   "metadata": {},
   "outputs": [
    {
     "name": "stdout",
     "output_type": "stream",
     "text": [
      "P-Value is     0.000000000000%\n"
     ]
    }
   ],
   "source": [
    "# Get printer P-Value \n",
    "\n",
    "print('P-Value is {0: 18.12f}%'.format(p_value))"
   ]
  },
  {
   "cell_type": "code",
   "execution_count": 71,
   "metadata": {},
   "outputs": [],
   "source": [
    "#  Replacing nan values in AGE Column\n",
    "\n",
    "#qryStkChrt.set_index(['WorkWeekHrs'])\n",
    "\n",
    "if qryHeat['Age'].isnull().sum() > 0:\n",
    "    meanAge = qryHeat['Age'].mean()\n",
    "    qryHeat['Age'] = qryHeat['Age'].fillna(meanAge)\n",
    "    \n",
    "if qryHeat['WorkWeekHrs'].isnull().sum() > 0:\n",
    "    meanWork = qryHeat['WorkWeekHrs'].mean()\n",
    "    qryHeat['WorkWeekHrs'] = qryHeat['WorkWeekHrs'].fillna(meanWork)\n",
    "\n",
    "if qryHeat['CodeRevHrs'].isnull().sum() > 0:\n",
    "    meanCode = qryHeat['CodeRevHrs'].mean()\n",
    "    qryHeat['CodeRevHrs'] = qryHeat['CodeRevHrs'].fillna(meanCode)\n",
    "\n",
    "if qryHeat['ConvertedComp'].isnull().sum() > 0:\n",
    "    meanComp = qryHeat['ConvertedComp'].mean()\n",
    "    qryHeat['ConvertedComp'] = qryHeat['ConvertedComp'].fillna(meanComp)"
   ]
  },
  {
   "cell_type": "code",
   "execution_count": 72,
   "metadata": {},
   "outputs": [],
   "source": [
    "#  Replacing nan values in AGE Column via FUNCTION\n",
    "\n",
    "#qryStkChrt.set_index(['WorkWeekHrs'])\n",
    "\n",
    "qryHeat['Age'] = ReplMissVal(qryHeat['Age'])\n",
    "qryHeat['WorkWeekHrs'] = ReplMissVal(qryHeat['WorkWeekHrs'])\n",
    "qryHeat['CodeRevHrs'] = ReplMissVal(qryHeat['CodeRevHrs'])\n",
    "qryHeat['ConvertedComp'] = ReplMissVal(qryHeat['ConvertedComp'])\n",
    "              "
   ]
  },
  {
   "cell_type": "markdown",
   "metadata": {
    "tags": []
   },
   "source": [
    "### BARCHART: TOP 5 CURRENT YEAR LANGUAGES"
   ]
  },
  {
   "cell_type": "code",
   "execution_count": 82,
   "metadata": {},
   "outputs": [
    {
     "data": {
      "text/plain": [
       "Text(0, 0.5, 'Language Worked WithFreqency')"
      ]
     },
     "execution_count": 82,
     "metadata": {},
     "output_type": "execute_result"
    },
    {
     "data": {
      "image/png": "[encoded data removed]",
      "text/plain": [
       "<Figure size 1080x576 with 1 Axes>"
      ]
     },
     "metadata": {
      "needs_background": "light"
     },
     "output_type": "display_data"
    }
   ],
   "source": [
    "#  Concept from Week 2 - HISTOGRAMS - Show distribution of converted salaries\n",
    "\n",
    "currLang = dfCurrLang['currLang']\n",
    "cnt = dfCurrLang['cntLang']\n",
    "\n",
    "count, bin_edges = np.histogram(dfCurrLang['cntLang'].dropna())\n",
    "plt.figure(figsize=(15, 8), edgecolor='blue')\n",
    "dfCurrLang[\"cntLang\"].plot(kind = 'hist', xticks=bin_edges)\n",
    "\n",
    "#plt.figure(figsize=(15, 8), edgecolor='blue')\n",
    "plt.title(\"Barchart:Count of Current Top Languages\", size=16)\n",
    "plt.xlabel(\"Count of Languages Worked With\", size=14)\n",
    "plt.ylabel(\"Language Worked WithFreqency\", size=14)\n",
    "\n",
    "#plt.show()"
   ]
  },
  {
   "cell_type": "code",
   "execution_count": 90,
   "metadata": {},
   "outputs": [
    {
     "data": {
      "text/plain": [
       "Text(0, 0.5, 'Language Worked WithFreqency')"
      ]
     },
     "execution_count": 90,
     "metadata": {},
     "output_type": "execute_result"
    },
    {
     "data": {
      "image/png": "[encoded data removed]",
      "text/plain": [
       "<Figure size 1080x576 with 1 Axes>"
      ]
     },
     "metadata": {
      "needs_background": "light"
     },
     "output_type": "display_data"
    }
   ],
   "source": [
    "#  Concept from Week 2 - HISTOGRAMS - Show distribution of converted salaries\n",
    "\n",
    "currLang = dfCurrLangAll['currLang']\n",
    "cnt = dfCurrLangAll['cntLang']\n",
    "\n",
    "count, bin_edges = np.histogram(dfCurrLangAll['cntLang'].dropna())\n",
    "plt.figure(figsize=(15, 8), edgecolor='blue')\n",
    "dfCurrLangAll[\"cntLang\"].plot(kind = 'hist', xticks=bin_edges)\n",
    "\n",
    "#plt.figure(figsize=(15, 8), edgecolor='blue')\n",
    "plt.title(\"Barchart:Count of Current Top Languages\", size=16)\n",
    "plt.xlabel(\"Count of Languages Worked With\", size=14)\n",
    "plt.ylabel(\"Language Worked WithFreqency\", size=14)\n",
    "\n",
    "#plt.show()"
   ]
  },
  {
   "cell_type": "code",
   "execution_count": null,
   "metadata": {},
   "outputs": [],
   "source": [
    "# Working Code\n",
    "\"\"\"\n",
    "plt.figure(figsize=(14, 8), edgecolor='blue')\n",
    "plt.hist(dfCurrLang['cntLang'], density=True, bins=10) # density=False would make counts\n",
    "plt.title('Converted Comp Distribution')\n",
    "plt.ylabel('Freq Count')\n",
    "plt.xlabel('Count of Current Langs)')\n",
    "\"\"\""
   ]
  },
  {
   "cell_type": "markdown",
   "metadata": {},
   "source": [
    "### BARCHART: TOP 5 FUTURE (Next Year) LANGUAGES"
   ]
  },
  {
   "cell_type": "code",
   "execution_count": 87,
   "metadata": {},
   "outputs": [
    {
     "data": {
      "text/plain": [
       "Text(0, 0.5, 'Future Language Freqency')"
      ]
     },
     "execution_count": 87,
     "metadata": {},
     "output_type": "execute_result"
    },
    {
     "data": {
      "image/png": "[encoded data removed]",
      "text/plain": [
       "<Figure size 1080x576 with 1 Axes>"
      ]
     },
     "metadata": {
      "needs_background": "light"
     },
     "output_type": "display_data"
    }
   ],
   "source": [
    "#  Concept from Week 2 - HISTOGRAMS - Show distribution of converted salaries\n",
    "\n",
    "count, bin_edges = np.histogram(dfFutLang['cntLang'].dropna())\n",
    "plt.figure(figsize=(15, 8), edgecolor='blue')\n",
    "dfFutLang[\"cntLang\"].plot(kind = 'hist', xticks=bin_edges)\n",
    "\n",
    "#plt.figure(figsize=(15, 8), edgecolor='blue')\n",
    "plt.title(\"Barchart: Count of Top Future 5 Languages\", size=16)\n",
    "plt.xlabel(\"Counts for Future Languages\", size=14)\n",
    "plt.ylabel(\"Future Language Freqency\", size=14)\n",
    "\n",
    "#plt.show()"
   ]
  },
  {
   "cell_type": "code",
   "execution_count": 91,
   "metadata": {},
   "outputs": [
    {
     "data": {
      "text/plain": [
       "Text(0, 0.5, 'Future Language Freqency')"
      ]
     },
     "execution_count": 91,
     "metadata": {},
     "output_type": "execute_result"
    },
    {
     "data": {
      "image/png": "[encoded data removed]",
      "text/plain": [
       "<Figure size 1080x576 with 1 Axes>"
      ]
     },
     "metadata": {
      "needs_background": "light"
     },
     "output_type": "display_data"
    }
   ],
   "source": [
    "#  Concept from Week 2 - HISTOGRAMS - Show distribution of converted salaries\n",
    "\n",
    "count, bin_edges = np.histogram(dfFutLangAll['cntLang'].dropna())\n",
    "plt.figure(figsize=(15, 8), edgecolor='blue')\n",
    "dfFutLangAll[\"cntLang\"].plot(kind = 'hist', xticks=bin_edges)\n",
    "\n",
    "#plt.figure(figsize=(15, 8), edgecolor='blue')\n",
    "plt.title(\"Barchart: Count of Top Future Languages\", size=16)\n",
    "plt.xlabel(\"Counts for Future Languages\", size=14)\n",
    "plt.ylabel(\"Future Language Freqency\", size=14)\n",
    "\n",
    "#plt.show()"
   ]
  },
  {
   "cell_type": "markdown",
   "metadata": {},
   "source": [
    "### BARCHART: TOP 5 Current DATABASES"
   ]
  },
  {
   "cell_type": "code",
   "execution_count": 93,
   "metadata": {},
   "outputs": [
    {
     "data": {
      "text/plain": [
       "Text(0, 0.5, 'Database Count Freqency')"
      ]
     },
     "execution_count": 93,
     "metadata": {},
     "output_type": "execute_result"
    },
    {
     "data": {
      "image/png": "[encoded data removed]",
      "text/plain": [
       "<Figure size 1080x576 with 1 Axes>"
      ]
     },
     "metadata": {
      "needs_background": "light"
     },
     "output_type": "display_data"
    }
   ],
   "source": [
    "#  Concept from Week 2 - HISTOGRAMS - Show distribution of converted salaries\n",
    "\n",
    "count, bin_edges = np.histogram(dfCurrDB['cntDB'].dropna())\n",
    "plt.figure(figsize=(15, 8), edgecolor='blue')\n",
    "dfCurrDB[\"cntDB\"].plot(kind = 'hist', xticks=bin_edges)\n",
    "\n",
    "#plt.figure(figsize=(15, 8), edgecolor='blue')\n",
    "plt.title(\"Barchart: Top 5 Current Databases\", size=16)\n",
    "plt.xlabel(\"Counts of Databases\", size=14)\n",
    "plt.ylabel(\"Database Count Freqency\", size=14)\n",
    "\n",
    "#plt.show()"
   ]
  },
  {
   "cell_type": "code",
   "execution_count": 94,
   "metadata": {},
   "outputs": [
    {
     "data": {
      "text/plain": [
       "Text(0, 0.5, 'Database Count Freqency')"
      ]
     },
     "execution_count": 94,
     "metadata": {},
     "output_type": "execute_result"
    },
    {
     "data": {
      "image/png": "[encoded data removed]",
      "text/plain": [
       "<Figure size 1080x576 with 1 Axes>"
      ]
     },
     "metadata": {
      "needs_background": "light"
     },
     "output_type": "display_data"
    }
   ],
   "source": [
    "#  Concept from Week 2 - HISTOGRAMS - Show distribution of converted salaries\n",
    "\n",
    "count, bin_edges = np.histogram(dfCurrDBAll['cntDB'].dropna())\n",
    "plt.figure(figsize=(15, 8), edgecolor='blue')\n",
    "dfCurrDBAll[\"cntDB\"].plot(kind = 'hist', xticks=bin_edges)\n",
    "\n",
    "#plt.figure(figsize=(15, 8), edgecolor='blue')\n",
    "plt.title(\"Barchart: Top Current Databases\", size=16)\n",
    "plt.xlabel(\"Counts of Current Databases\", size=14)\n",
    "plt.ylabel(\"Database Count Freqency\", size=14)\n",
    "\n",
    "#plt.show()"
   ]
  },
  {
   "cell_type": "markdown",
   "metadata": {},
   "source": [
    "### BARCHART: TOP 5 Future DATABASES"
   ]
  },
  {
   "cell_type": "code",
   "execution_count": 95,
   "metadata": {},
   "outputs": [
    {
     "data": {
      "text/plain": [
       "Text(0, 0.5, 'Count Future Database Freqency')"
      ]
     },
     "execution_count": 95,
     "metadata": {},
     "output_type": "execute_result"
    },
    {
     "data": {
      "image/png": "[encoded data removed]",
      "text/plain": [
       "<Figure size 1080x576 with 1 Axes>"
      ]
     },
     "metadata": {
      "needs_background": "light"
     },
     "output_type": "display_data"
    }
   ],
   "source": [
    "#  Concept from Week 2 - HISTOGRAMS - Show distribution of Database Desired\n",
    "\n",
    "count, bin_edges = np.histogram(dfFutDB['cntDB'].dropna())\n",
    "plt.figure(figsize=(15, 8), edgecolor='blue')\n",
    "dfFutDB[\"cntDB\"].plot(kind = 'hist', xticks=bin_edges)\n",
    "\n",
    "#plt.figure(figsize=(15, 8), edgecolor='blue')\n",
    "plt.title(\"Barchart: Top 5 Future Databases\", size=16)\n",
    "plt.xlabel(\"Counts of Desired Databases\", size=14)\n",
    "plt.ylabel(\"Count Future Database Freqency\", size=14)\n",
    "\n",
    "#plt.show()"
   ]
  },
  {
   "cell_type": "code",
   "execution_count": 96,
   "metadata": {},
   "outputs": [
    {
     "data": {
      "text/plain": [
       "Text(0, 0.5, 'Count Future Database Freqency')"
      ]
     },
     "execution_count": 96,
     "metadata": {},
     "output_type": "execute_result"
    },
    {
     "data": {
      "image/png": "[encoded data removed]",
      "text/plain": [
       "<Figure size 1080x576 with 1 Axes>"
      ]
     },
     "metadata": {
      "needs_background": "light"
     },
     "output_type": "display_data"
    }
   ],
   "source": [
    "#  Concept from Week 2 - HISTOGRAMS - Show distribution of Database Desired\n",
    "\n",
    "count, bin_edges = np.histogram(dfFutDBAll['cntDB'].dropna())\n",
    "plt.figure(figsize=(15, 8), edgecolor='blue')\n",
    "dfFutDBAll[\"cntDB\"].plot(kind = 'hist', xticks=bin_edges)\n",
    "\n",
    "#plt.figure(figsize=(15, 8), edgecolor='blue')\n",
    "plt.title(\"Barchart: Top Future Databases\", size=16)\n",
    "plt.xlabel(\"Counts of Desired Databases\", size=14)\n",
    "plt.ylabel(\"Count Future Database Freqency\", size=14)\n",
    "\n",
    "#plt.show()"
   ]
  },
  {
   "cell_type": "markdown",
   "metadata": {},
   "source": [
    "Close the database connection.\n"
   ]
  },
  {
   "cell_type": "code",
   "execution_count": null,
   "metadata": {
    "tags": []
   },
   "outputs": [],
   "source": [
    "conn.close()"
   ]
  },
  {
   "cell_type": "markdown",
   "metadata": {},
   "source": [
    "## Authors\n"
   ]
  },
  {
   "cell_type": "markdown",
   "metadata": {},
   "source": [
    "Ramesh Sannareddy\n"
   ]
  },
  {
   "cell_type": "markdown",
   "metadata": {},
   "source": [
    "### Other Contributors\n"
   ]
  },
  {
   "cell_type": "markdown",
   "metadata": {},
   "source": [
    "Rav Ahuja\n",
    "Helena Rolle"
   ]
  },
  {
   "cell_type": "markdown",
   "metadata": {},
   "source": [
    "## Change Log\n"
   ]
  },
  {
   "cell_type": "markdown",
   "metadata": {},
   "source": [
    "| Date (YYYY-MM-DD) | Version | Changed By        | Change Description                 |\n",
    "| ----------------- | ------- | ----------------- | ---------------------------------- |\n",
    "| 2020-10-17        | 0.1     | Ramesh Sannareddy | Created initial version of the lab |\n"
   ]
  },
  {
   "cell_type": "markdown",
   "metadata": {},
   "source": [
    "Copyright © 2020 IBM Corporation. This notebook and its source code are released under the terms of the [MIT License](https://cognitiveclass.ai/mit-license?utm_medium=Exinfluencer&utm_source=Exinfluencer&utm_content=000026UJ&utm_term=10006555&utm_id=NA-SkillsNetwork-Channel-SkillsNetworkCoursesIBMDA0321ENSkillsNetwork21426264-2022-01-01&cm_mmc=Email_Newsletter-\\_-Developer_Ed%2BTech-\\_-WW_WW-\\_-SkillsNetwork-Courses-IBM-DA0321EN-SkillsNetwork-21426264&cm_mmca1=000026UJ&cm_mmca2=10006555&cm_mmca3=M12345678&cvosrc=email.Newsletter.M12345678&cvo_campaign=000026UJ).\n"
   ]
  }
 ],
 "metadata": {
  "kernelspec": {
   "display_name": "Python",
   "language": "python",
   "name": "conda-env-python-py"
  },
  "language_info": {
   "codemirror_mode": {
    "name": "ipython",
    "version": 3
   },
   "file_extension": ".py",
   "mimetype": "text/x-python",
   "name": "python",
   "nbconvert_exporter": "python",
   "pygments_lexer": "ipython3",
   "version": "3.7.12"
  }
 },
 "nbformat": 4,
 "nbformat_minor": 4
}
